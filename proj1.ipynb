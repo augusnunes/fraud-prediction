{
 "cells": [
  {
   "cell_type": "code",
   "execution_count": 1,
   "id": "complete-rebate",
   "metadata": {},
   "outputs": [],
   "source": [
    "import pandas as pd"
   ]
  },
  {
   "cell_type": "code",
   "execution_count": 7,
   "id": "demanding-promise",
   "metadata": {},
   "outputs": [],
   "source": [
    "df = pd.read_csv(\"data/credito_clientes.csv\")"
   ]
  },
  {
   "cell_type": "code",
   "execution_count": 12,
   "id": "allied-minutes",
   "metadata": {},
   "outputs": [],
   "source": [
    "df.set_index(\"ID\", inplace=True)"
   ]
  },
  {
   "cell_type": "markdown",
   "id": "individual-medium",
   "metadata": {},
   "source": [
    "## Exercício 1\n",
    "Explore a base de dados e verifique se ha contas repetidas."
   ]
  },
  {
   "cell_type": "code",
   "execution_count": 13,
   "id": "centered-reggae",
   "metadata": {},
   "outputs": [
    {
     "data": {
      "text/plain": [
       "(30000, 23)"
      ]
     },
     "execution_count": 13,
     "metadata": {},
     "output_type": "execute_result"
    }
   ],
   "source": [
    "df.shape"
   ]
  },
  {
   "cell_type": "code",
   "execution_count": 14,
   "id": "corrected-enclosure",
   "metadata": {},
   "outputs": [
    {
     "data": {
      "text/plain": [
       "(29639, 23)"
      ]
     },
     "execution_count": 14,
     "metadata": {},
     "output_type": "execute_result"
    }
   ],
   "source": [
    "df.drop_duplicates().shape"
   ]
  },
  {
   "cell_type": "markdown",
   "id": "opened-covering",
   "metadata": {},
   "source": [
    "## Exercício 2\n",
    "Se for caso, examine os IDs repetidos, e crie uma nova com os dados corrigidos."
   ]
  },
  {
   "cell_type": "code",
   "execution_count": null,
   "id": "celtic-salad",
   "metadata": {},
   "outputs": [],
   "source": []
  },
  {
   "cell_type": "markdown",
   "id": "saved-effect",
   "metadata": {},
   "source": [
    "## Exercício 3\n",
    "Continuando a explorac¸ao dos dados, analise o tipo da vari ˜ avel ´ PAY 1. Discuta se ha algum ´\n",
    "problema e como corrigir."
   ]
  },
  {
   "cell_type": "code",
   "execution_count": null,
   "id": "olive-administrator",
   "metadata": {},
   "outputs": [],
   "source": []
  },
  {
   "cell_type": "markdown",
   "id": "sublime-cooler",
   "metadata": {},
   "source": [
    "## Exercício 4\n",
    "1. Plote os histogramas de `AGE` e `LIMIT BAL`, e calcule as médias e variâncias"
   ]
  },
  {
   "cell_type": "code",
   "execution_count": null,
   "id": "general-works",
   "metadata": {},
   "outputs": [],
   "source": []
  },
  {
   "cell_type": "markdown",
   "id": "trained-seeking",
   "metadata": {},
   "source": [
    "2. Verifique a integridade da variavel indicadora `EDUCATION`. Faça o mesmo para `MARRIAGE`."
   ]
  },
  {
   "cell_type": "code",
   "execution_count": null,
   "id": "marked-youth",
   "metadata": {},
   "outputs": [],
   "source": []
  },
  {
   "cell_type": "code",
   "execution_count": null,
   "id": "julian-choir",
   "metadata": {},
   "outputs": [],
   "source": []
  },
  {
   "cell_type": "markdown",
   "id": "figured-cursor",
   "metadata": {},
   "source": [
    "## Exercício 5\n",
    "Realize o one-hot encoding para a variável `EDUCATION`."
   ]
  },
  {
   "cell_type": "code",
   "execution_count": null,
   "id": "geological-deadline",
   "metadata": {},
   "outputs": [],
   "source": []
  },
  {
   "cell_type": "markdown",
   "id": "impressed-duration",
   "metadata": {},
   "source": [
    "## Exercício 6\n",
    "Analise `PAY_3` e `PAY_2` e verifique se as informações nelas contidas estão condizentes. Avalie se\n",
    "poderão ser utilizadas no modelo preditivo."
   ]
  },
  {
   "cell_type": "code",
   "execution_count": null,
   "id": "accredited-aquatic",
   "metadata": {},
   "outputs": [],
   "source": []
  },
  {
   "cell_type": "markdown",
   "id": "athletic-clinton",
   "metadata": {},
   "source": [
    "## Exercício 7\n",
    "1. Plote os histogramas de `PAY_1`, ..., `PAY_6`; calcule suas médias, variâncias, e valores máximos e mínimos."
   ]
  },
  {
   "cell_type": "code",
   "execution_count": null,
   "id": "magnetic-algebra",
   "metadata": {},
   "outputs": [],
   "source": []
  },
  {
   "cell_type": "markdown",
   "id": "lined-albert",
   "metadata": {},
   "source": [
    "2. Faça o mesmo para `BILL AMT_n`, n = 1, ..., 6"
   ]
  },
  {
   "cell_type": "code",
   "execution_count": null,
   "id": "dietary-honey",
   "metadata": {},
   "outputs": [],
   "source": []
  },
  {
   "cell_type": "markdown",
   "id": "electronic-tournament",
   "metadata": {},
   "source": [
    "3. Faça o mesmo para `PAY_AMT_n`, n = 1, ..., 6."
   ]
  },
  {
   "cell_type": "code",
   "execution_count": null,
   "id": "partial-underground",
   "metadata": {},
   "outputs": [],
   "source": []
  },
  {
   "cell_type": "markdown",
   "id": "solar-cassette",
   "metadata": {},
   "source": [
    "4. Repita o passo anterior eliminando as ocorrências nulas e aplicando log10 aos pagamentos não-nulos. "
   ]
  },
  {
   "cell_type": "code",
   "execution_count": null,
   "id": "friendly-force",
   "metadata": {},
   "outputs": [],
   "source": []
  }
 ],
 "metadata": {
  "kernelspec": {
   "display_name": "Python 3",
   "language": "python",
   "name": "python3"
  },
  "language_info": {
   "codemirror_mode": {
    "name": "ipython",
    "version": 3
   },
   "file_extension": ".py",
   "mimetype": "text/x-python",
   "name": "python",
   "nbconvert_exporter": "python",
   "pygments_lexer": "ipython3",
   "version": "3.9.5"
  }
 },
 "nbformat": 4,
 "nbformat_minor": 5
}
