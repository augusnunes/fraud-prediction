{
 "cells": [
  {
   "cell_type": "code",
   "execution_count": 1,
   "id": "downtown-jewel",
   "metadata": {},
   "outputs": [],
   "source": [
    "import pandas as pd\n",
    "import matplotlib.pyplot as plt\n",
    "import seaborn as sns\n",
    "import numpy as np\n",
    "\n",
    "from sklearn.preprocessing import OneHotEncoder"
   ]
  },
  {
   "cell_type": "code",
   "execution_count": 2,
   "id": "downtown-theater",
   "metadata": {},
   "outputs": [],
   "source": [
    "df = pd.read_csv(\"data/credito_clientes.csv\")"
   ]
  },
  {
   "cell_type": "code",
   "execution_count": 3,
   "id": "apparent-battle",
   "metadata": {},
   "outputs": [],
   "source": [
    "df.set_index(\"ID\", inplace=True)"
   ]
  },
  {
   "cell_type": "code",
   "execution_count": 4,
   "id": "blind-capital",
   "metadata": {},
   "outputs": [
    {
     "data": {
      "text/html": [
       "<div>\n",
       "<style scoped>\n",
       "    .dataframe tbody tr th:only-of-type {\n",
       "        vertical-align: middle;\n",
       "    }\n",
       "\n",
       "    .dataframe tbody tr th {\n",
       "        vertical-align: top;\n",
       "    }\n",
       "\n",
       "    .dataframe thead th {\n",
       "        text-align: right;\n",
       "    }\n",
       "</style>\n",
       "<table border=\"1\" class=\"dataframe\">\n",
       "  <thead>\n",
       "    <tr style=\"text-align: right;\">\n",
       "      <th></th>\n",
       "      <th>LIMIT_BAL</th>\n",
       "      <th>EDUCATION</th>\n",
       "      <th>MARRIAGE</th>\n",
       "      <th>AGE</th>\n",
       "      <th>PAY_1</th>\n",
       "      <th>PAY_2</th>\n",
       "      <th>PAY_3</th>\n",
       "      <th>PAY_4</th>\n",
       "      <th>PAY_5</th>\n",
       "      <th>PAY_6</th>\n",
       "      <th>...</th>\n",
       "      <th>BILL_AMT4</th>\n",
       "      <th>BILL_AMT5</th>\n",
       "      <th>BILL_AMT6</th>\n",
       "      <th>PAY_AMT1</th>\n",
       "      <th>PAY_AMT2</th>\n",
       "      <th>PAY_AMT3</th>\n",
       "      <th>PAY_AMT4</th>\n",
       "      <th>PAY_AMT5</th>\n",
       "      <th>PAY_AMT6</th>\n",
       "      <th>default payment next month</th>\n",
       "    </tr>\n",
       "    <tr>\n",
       "      <th>ID</th>\n",
       "      <th></th>\n",
       "      <th></th>\n",
       "      <th></th>\n",
       "      <th></th>\n",
       "      <th></th>\n",
       "      <th></th>\n",
       "      <th></th>\n",
       "      <th></th>\n",
       "      <th></th>\n",
       "      <th></th>\n",
       "      <th></th>\n",
       "      <th></th>\n",
       "      <th></th>\n",
       "      <th></th>\n",
       "      <th></th>\n",
       "      <th></th>\n",
       "      <th></th>\n",
       "      <th></th>\n",
       "      <th></th>\n",
       "      <th></th>\n",
       "      <th></th>\n",
       "    </tr>\n",
       "  </thead>\n",
       "  <tbody>\n",
       "    <tr>\n",
       "      <th>798fc410-45c1</th>\n",
       "      <td>20000</td>\n",
       "      <td>2</td>\n",
       "      <td>1</td>\n",
       "      <td>24</td>\n",
       "      <td>2</td>\n",
       "      <td>2</td>\n",
       "      <td>-1</td>\n",
       "      <td>-1</td>\n",
       "      <td>-2</td>\n",
       "      <td>-2</td>\n",
       "      <td>...</td>\n",
       "      <td>0</td>\n",
       "      <td>0</td>\n",
       "      <td>0</td>\n",
       "      <td>0</td>\n",
       "      <td>689</td>\n",
       "      <td>0</td>\n",
       "      <td>0</td>\n",
       "      <td>0</td>\n",
       "      <td>0</td>\n",
       "      <td>1</td>\n",
       "    </tr>\n",
       "    <tr>\n",
       "      <th>8a8c8f3b-8eb4</th>\n",
       "      <td>120000</td>\n",
       "      <td>2</td>\n",
       "      <td>2</td>\n",
       "      <td>26</td>\n",
       "      <td>-1</td>\n",
       "      <td>2</td>\n",
       "      <td>0</td>\n",
       "      <td>0</td>\n",
       "      <td>0</td>\n",
       "      <td>2</td>\n",
       "      <td>...</td>\n",
       "      <td>3272</td>\n",
       "      <td>3455</td>\n",
       "      <td>3261</td>\n",
       "      <td>0</td>\n",
       "      <td>1000</td>\n",
       "      <td>1000</td>\n",
       "      <td>1000</td>\n",
       "      <td>0</td>\n",
       "      <td>2000</td>\n",
       "      <td>1</td>\n",
       "    </tr>\n",
       "    <tr>\n",
       "      <th>85698822-43f5</th>\n",
       "      <td>90000</td>\n",
       "      <td>2</td>\n",
       "      <td>2</td>\n",
       "      <td>34</td>\n",
       "      <td>0</td>\n",
       "      <td>0</td>\n",
       "      <td>0</td>\n",
       "      <td>0</td>\n",
       "      <td>0</td>\n",
       "      <td>0</td>\n",
       "      <td>...</td>\n",
       "      <td>14331</td>\n",
       "      <td>14948</td>\n",
       "      <td>15549</td>\n",
       "      <td>1518</td>\n",
       "      <td>1500</td>\n",
       "      <td>1000</td>\n",
       "      <td>1000</td>\n",
       "      <td>1000</td>\n",
       "      <td>5000</td>\n",
       "      <td>0</td>\n",
       "    </tr>\n",
       "    <tr>\n",
       "      <th>0737c11b-be42</th>\n",
       "      <td>50000</td>\n",
       "      <td>2</td>\n",
       "      <td>1</td>\n",
       "      <td>37</td>\n",
       "      <td>0</td>\n",
       "      <td>0</td>\n",
       "      <td>0</td>\n",
       "      <td>0</td>\n",
       "      <td>0</td>\n",
       "      <td>0</td>\n",
       "      <td>...</td>\n",
       "      <td>28314</td>\n",
       "      <td>28959</td>\n",
       "      <td>29547</td>\n",
       "      <td>2000</td>\n",
       "      <td>2019</td>\n",
       "      <td>1200</td>\n",
       "      <td>1100</td>\n",
       "      <td>1069</td>\n",
       "      <td>1000</td>\n",
       "      <td>0</td>\n",
       "    </tr>\n",
       "    <tr>\n",
       "      <th>3b7f77cc-dbc0</th>\n",
       "      <td>50000</td>\n",
       "      <td>2</td>\n",
       "      <td>1</td>\n",
       "      <td>57</td>\n",
       "      <td>-1</td>\n",
       "      <td>0</td>\n",
       "      <td>-1</td>\n",
       "      <td>0</td>\n",
       "      <td>0</td>\n",
       "      <td>0</td>\n",
       "      <td>...</td>\n",
       "      <td>20940</td>\n",
       "      <td>19146</td>\n",
       "      <td>19131</td>\n",
       "      <td>2000</td>\n",
       "      <td>36681</td>\n",
       "      <td>10000</td>\n",
       "      <td>9000</td>\n",
       "      <td>689</td>\n",
       "      <td>679</td>\n",
       "      <td>0</td>\n",
       "    </tr>\n",
       "  </tbody>\n",
       "</table>\n",
       "<p>5 rows × 23 columns</p>\n",
       "</div>"
      ],
      "text/plain": [
       "               LIMIT_BAL  EDUCATION  MARRIAGE  AGE PAY_1  PAY_2  PAY_3  PAY_4  \\\n",
       "ID                                                                              \n",
       "798fc410-45c1      20000          2         1   24     2      2     -1     -1   \n",
       "8a8c8f3b-8eb4     120000          2         2   26    -1      2      0      0   \n",
       "85698822-43f5      90000          2         2   34     0      0      0      0   \n",
       "0737c11b-be42      50000          2         1   37     0      0      0      0   \n",
       "3b7f77cc-dbc0      50000          2         1   57    -1      0     -1      0   \n",
       "\n",
       "               PAY_5  PAY_6  ...  BILL_AMT4  BILL_AMT5  BILL_AMT6  PAY_AMT1  \\\n",
       "ID                           ...                                              \n",
       "798fc410-45c1     -2     -2  ...          0          0          0         0   \n",
       "8a8c8f3b-8eb4      0      2  ...       3272       3455       3261         0   \n",
       "85698822-43f5      0      0  ...      14331      14948      15549      1518   \n",
       "0737c11b-be42      0      0  ...      28314      28959      29547      2000   \n",
       "3b7f77cc-dbc0      0      0  ...      20940      19146      19131      2000   \n",
       "\n",
       "               PAY_AMT2  PAY_AMT3  PAY_AMT4  PAY_AMT5  PAY_AMT6  \\\n",
       "ID                                                                \n",
       "798fc410-45c1       689         0         0         0         0   \n",
       "8a8c8f3b-8eb4      1000      1000      1000         0      2000   \n",
       "85698822-43f5      1500      1000      1000      1000      5000   \n",
       "0737c11b-be42      2019      1200      1100      1069      1000   \n",
       "3b7f77cc-dbc0     36681     10000      9000       689       679   \n",
       "\n",
       "               default payment next month  \n",
       "ID                                         \n",
       "798fc410-45c1                           1  \n",
       "8a8c8f3b-8eb4                           1  \n",
       "85698822-43f5                           0  \n",
       "0737c11b-be42                           0  \n",
       "3b7f77cc-dbc0                           0  \n",
       "\n",
       "[5 rows x 23 columns]"
      ]
     },
     "execution_count": 4,
     "metadata": {},
     "output_type": "execute_result"
    }
   ],
   "source": [
    "df.head()"
   ]
  },
  {
   "cell_type": "code",
   "execution_count": 5,
   "id": "federal-quilt",
   "metadata": {},
   "outputs": [
    {
     "data": {
      "text/plain": [
       "Index(['LIMIT_BAL', 'EDUCATION', 'MARRIAGE', 'AGE', 'PAY_1', 'PAY_2', 'PAY_3',\n",
       "       'PAY_4', 'PAY_5', 'PAY_6', 'BILL_AMT1', 'BILL_AMT2', 'BILL_AMT3',\n",
       "       'BILL_AMT4', 'BILL_AMT5', 'BILL_AMT6', 'PAY_AMT1', 'PAY_AMT2',\n",
       "       'PAY_AMT3', 'PAY_AMT4', 'PAY_AMT5', 'PAY_AMT6',\n",
       "       'default payment next month'],\n",
       "      dtype='object')"
      ]
     },
     "execution_count": 5,
     "metadata": {},
     "output_type": "execute_result"
    }
   ],
   "source": [
    "df.columns"
   ]
  },
  {
   "cell_type": "markdown",
   "id": "second-characteristic",
   "metadata": {},
   "source": [
    "## Exercício 1\n",
    "Explore a base de dados e verifique se ha contas repetidas."
   ]
  },
  {
   "cell_type": "code",
   "execution_count": 6,
   "id": "respected-paint",
   "metadata": {},
   "outputs": [
    {
     "data": {
      "text/html": [
       "<div>\n",
       "<style scoped>\n",
       "    .dataframe tbody tr th:only-of-type {\n",
       "        vertical-align: middle;\n",
       "    }\n",
       "\n",
       "    .dataframe tbody tr th {\n",
       "        vertical-align: top;\n",
       "    }\n",
       "\n",
       "    .dataframe thead th {\n",
       "        text-align: right;\n",
       "    }\n",
       "</style>\n",
       "<table border=\"1\" class=\"dataframe\">\n",
       "  <thead>\n",
       "    <tr style=\"text-align: right;\">\n",
       "      <th></th>\n",
       "      <th>LIMIT_BAL</th>\n",
       "      <th>EDUCATION</th>\n",
       "      <th>MARRIAGE</th>\n",
       "      <th>AGE</th>\n",
       "      <th>PAY_1</th>\n",
       "      <th>PAY_2</th>\n",
       "      <th>PAY_3</th>\n",
       "      <th>PAY_4</th>\n",
       "      <th>PAY_5</th>\n",
       "      <th>PAY_6</th>\n",
       "      <th>...</th>\n",
       "      <th>BILL_AMT4</th>\n",
       "      <th>BILL_AMT5</th>\n",
       "      <th>BILL_AMT6</th>\n",
       "      <th>PAY_AMT1</th>\n",
       "      <th>PAY_AMT2</th>\n",
       "      <th>PAY_AMT3</th>\n",
       "      <th>PAY_AMT4</th>\n",
       "      <th>PAY_AMT5</th>\n",
       "      <th>PAY_AMT6</th>\n",
       "      <th>default payment next month</th>\n",
       "    </tr>\n",
       "    <tr>\n",
       "      <th>ID</th>\n",
       "      <th></th>\n",
       "      <th></th>\n",
       "      <th></th>\n",
       "      <th></th>\n",
       "      <th></th>\n",
       "      <th></th>\n",
       "      <th></th>\n",
       "      <th></th>\n",
       "      <th></th>\n",
       "      <th></th>\n",
       "      <th></th>\n",
       "      <th></th>\n",
       "      <th></th>\n",
       "      <th></th>\n",
       "      <th></th>\n",
       "      <th></th>\n",
       "      <th></th>\n",
       "      <th></th>\n",
       "      <th></th>\n",
       "      <th></th>\n",
       "      <th></th>\n",
       "    </tr>\n",
       "  </thead>\n",
       "  <tbody>\n",
       "    <tr>\n",
       "      <th>42009c72-651f</th>\n",
       "      <td>0</td>\n",
       "      <td>0</td>\n",
       "      <td>0</td>\n",
       "      <td>0</td>\n",
       "      <td>0</td>\n",
       "      <td>0</td>\n",
       "      <td>0</td>\n",
       "      <td>0</td>\n",
       "      <td>0</td>\n",
       "      <td>0</td>\n",
       "      <td>...</td>\n",
       "      <td>0</td>\n",
       "      <td>0</td>\n",
       "      <td>0</td>\n",
       "      <td>0</td>\n",
       "      <td>0</td>\n",
       "      <td>0</td>\n",
       "      <td>0</td>\n",
       "      <td>0</td>\n",
       "      <td>0</td>\n",
       "      <td>0</td>\n",
       "    </tr>\n",
       "    <tr>\n",
       "      <th>73ed1381-3a3f</th>\n",
       "      <td>0</td>\n",
       "      <td>0</td>\n",
       "      <td>0</td>\n",
       "      <td>0</td>\n",
       "      <td>0</td>\n",
       "      <td>0</td>\n",
       "      <td>0</td>\n",
       "      <td>0</td>\n",
       "      <td>0</td>\n",
       "      <td>0</td>\n",
       "      <td>...</td>\n",
       "      <td>0</td>\n",
       "      <td>0</td>\n",
       "      <td>0</td>\n",
       "      <td>0</td>\n",
       "      <td>0</td>\n",
       "      <td>0</td>\n",
       "      <td>0</td>\n",
       "      <td>0</td>\n",
       "      <td>0</td>\n",
       "      <td>0</td>\n",
       "    </tr>\n",
       "    <tr>\n",
       "      <th>4f95b36b-ab10</th>\n",
       "      <td>0</td>\n",
       "      <td>0</td>\n",
       "      <td>0</td>\n",
       "      <td>0</td>\n",
       "      <td>0</td>\n",
       "      <td>0</td>\n",
       "      <td>0</td>\n",
       "      <td>0</td>\n",
       "      <td>0</td>\n",
       "      <td>0</td>\n",
       "      <td>...</td>\n",
       "      <td>0</td>\n",
       "      <td>0</td>\n",
       "      <td>0</td>\n",
       "      <td>0</td>\n",
       "      <td>0</td>\n",
       "      <td>0</td>\n",
       "      <td>0</td>\n",
       "      <td>0</td>\n",
       "      <td>0</td>\n",
       "      <td>0</td>\n",
       "    </tr>\n",
       "    <tr>\n",
       "      <th>8d3a2576-a958</th>\n",
       "      <td>0</td>\n",
       "      <td>0</td>\n",
       "      <td>0</td>\n",
       "      <td>0</td>\n",
       "      <td>0</td>\n",
       "      <td>0</td>\n",
       "      <td>0</td>\n",
       "      <td>0</td>\n",
       "      <td>0</td>\n",
       "      <td>0</td>\n",
       "      <td>...</td>\n",
       "      <td>0</td>\n",
       "      <td>0</td>\n",
       "      <td>0</td>\n",
       "      <td>0</td>\n",
       "      <td>0</td>\n",
       "      <td>0</td>\n",
       "      <td>0</td>\n",
       "      <td>0</td>\n",
       "      <td>0</td>\n",
       "      <td>0</td>\n",
       "    </tr>\n",
       "    <tr>\n",
       "      <th>d5aeb496-64e5</th>\n",
       "      <td>0</td>\n",
       "      <td>0</td>\n",
       "      <td>0</td>\n",
       "      <td>0</td>\n",
       "      <td>0</td>\n",
       "      <td>0</td>\n",
       "      <td>0</td>\n",
       "      <td>0</td>\n",
       "      <td>0</td>\n",
       "      <td>0</td>\n",
       "      <td>...</td>\n",
       "      <td>0</td>\n",
       "      <td>0</td>\n",
       "      <td>0</td>\n",
       "      <td>0</td>\n",
       "      <td>0</td>\n",
       "      <td>0</td>\n",
       "      <td>0</td>\n",
       "      <td>0</td>\n",
       "      <td>0</td>\n",
       "      <td>0</td>\n",
       "    </tr>\n",
       "    <tr>\n",
       "      <th>...</th>\n",
       "      <td>...</td>\n",
       "      <td>...</td>\n",
       "      <td>...</td>\n",
       "      <td>...</td>\n",
       "      <td>...</td>\n",
       "      <td>...</td>\n",
       "      <td>...</td>\n",
       "      <td>...</td>\n",
       "      <td>...</td>\n",
       "      <td>...</td>\n",
       "      <td>...</td>\n",
       "      <td>...</td>\n",
       "      <td>...</td>\n",
       "      <td>...</td>\n",
       "      <td>...</td>\n",
       "      <td>...</td>\n",
       "      <td>...</td>\n",
       "      <td>...</td>\n",
       "      <td>...</td>\n",
       "      <td>...</td>\n",
       "      <td>...</td>\n",
       "    </tr>\n",
       "    <tr>\n",
       "      <th>90330d02-82d9</th>\n",
       "      <td>0</td>\n",
       "      <td>0</td>\n",
       "      <td>0</td>\n",
       "      <td>0</td>\n",
       "      <td>0</td>\n",
       "      <td>0</td>\n",
       "      <td>0</td>\n",
       "      <td>0</td>\n",
       "      <td>0</td>\n",
       "      <td>0</td>\n",
       "      <td>...</td>\n",
       "      <td>0</td>\n",
       "      <td>0</td>\n",
       "      <td>0</td>\n",
       "      <td>0</td>\n",
       "      <td>0</td>\n",
       "      <td>0</td>\n",
       "      <td>0</td>\n",
       "      <td>0</td>\n",
       "      <td>0</td>\n",
       "      <td>0</td>\n",
       "    </tr>\n",
       "    <tr>\n",
       "      <th>ad23fe5c-7b09</th>\n",
       "      <td>0</td>\n",
       "      <td>0</td>\n",
       "      <td>0</td>\n",
       "      <td>0</td>\n",
       "      <td>0</td>\n",
       "      <td>0</td>\n",
       "      <td>0</td>\n",
       "      <td>0</td>\n",
       "      <td>0</td>\n",
       "      <td>0</td>\n",
       "      <td>...</td>\n",
       "      <td>0</td>\n",
       "      <td>0</td>\n",
       "      <td>0</td>\n",
       "      <td>0</td>\n",
       "      <td>0</td>\n",
       "      <td>0</td>\n",
       "      <td>0</td>\n",
       "      <td>0</td>\n",
       "      <td>0</td>\n",
       "      <td>0</td>\n",
       "    </tr>\n",
       "    <tr>\n",
       "      <th>f07d720c-0262</th>\n",
       "      <td>220000</td>\n",
       "      <td>1</td>\n",
       "      <td>1</td>\n",
       "      <td>42</td>\n",
       "      <td>1</td>\n",
       "      <td>-2</td>\n",
       "      <td>-2</td>\n",
       "      <td>-2</td>\n",
       "      <td>-2</td>\n",
       "      <td>-2</td>\n",
       "      <td>...</td>\n",
       "      <td>0</td>\n",
       "      <td>0</td>\n",
       "      <td>0</td>\n",
       "      <td>0</td>\n",
       "      <td>0</td>\n",
       "      <td>0</td>\n",
       "      <td>0</td>\n",
       "      <td>0</td>\n",
       "      <td>0</td>\n",
       "      <td>1</td>\n",
       "    </tr>\n",
       "    <tr>\n",
       "      <th>1d49b311-8c45</th>\n",
       "      <td>360000</td>\n",
       "      <td>1</td>\n",
       "      <td>2</td>\n",
       "      <td>32</td>\n",
       "      <td>Not available</td>\n",
       "      <td>-2</td>\n",
       "      <td>-2</td>\n",
       "      <td>-2</td>\n",
       "      <td>-2</td>\n",
       "      <td>-2</td>\n",
       "      <td>...</td>\n",
       "      <td>0</td>\n",
       "      <td>0</td>\n",
       "      <td>0</td>\n",
       "      <td>0</td>\n",
       "      <td>0</td>\n",
       "      <td>0</td>\n",
       "      <td>0</td>\n",
       "      <td>0</td>\n",
       "      <td>0</td>\n",
       "      <td>0</td>\n",
       "    </tr>\n",
       "    <tr>\n",
       "      <th>97d1d2eb-c72f</th>\n",
       "      <td>0</td>\n",
       "      <td>0</td>\n",
       "      <td>0</td>\n",
       "      <td>0</td>\n",
       "      <td>0</td>\n",
       "      <td>0</td>\n",
       "      <td>0</td>\n",
       "      <td>0</td>\n",
       "      <td>0</td>\n",
       "      <td>0</td>\n",
       "      <td>...</td>\n",
       "      <td>0</td>\n",
       "      <td>0</td>\n",
       "      <td>0</td>\n",
       "      <td>0</td>\n",
       "      <td>0</td>\n",
       "      <td>0</td>\n",
       "      <td>0</td>\n",
       "      <td>0</td>\n",
       "      <td>0</td>\n",
       "      <td>0</td>\n",
       "    </tr>\n",
       "  </tbody>\n",
       "</table>\n",
       "<p>361 rows × 23 columns</p>\n",
       "</div>"
      ],
      "text/plain": [
       "               LIMIT_BAL  EDUCATION  MARRIAGE  AGE          PAY_1  PAY_2  \\\n",
       "ID                                                                         \n",
       "42009c72-651f          0          0         0    0              0      0   \n",
       "73ed1381-3a3f          0          0         0    0              0      0   \n",
       "4f95b36b-ab10          0          0         0    0              0      0   \n",
       "8d3a2576-a958          0          0         0    0              0      0   \n",
       "d5aeb496-64e5          0          0         0    0              0      0   \n",
       "...                  ...        ...       ...  ...            ...    ...   \n",
       "90330d02-82d9          0          0         0    0              0      0   \n",
       "ad23fe5c-7b09          0          0         0    0              0      0   \n",
       "f07d720c-0262     220000          1         1   42              1     -2   \n",
       "1d49b311-8c45     360000          1         2   32  Not available     -2   \n",
       "97d1d2eb-c72f          0          0         0    0              0      0   \n",
       "\n",
       "               PAY_3  PAY_4  PAY_5  PAY_6  ...  BILL_AMT4  BILL_AMT5  \\\n",
       "ID                                         ...                         \n",
       "42009c72-651f      0      0      0      0  ...          0          0   \n",
       "73ed1381-3a3f      0      0      0      0  ...          0          0   \n",
       "4f95b36b-ab10      0      0      0      0  ...          0          0   \n",
       "8d3a2576-a958      0      0      0      0  ...          0          0   \n",
       "d5aeb496-64e5      0      0      0      0  ...          0          0   \n",
       "...              ...    ...    ...    ...  ...        ...        ...   \n",
       "90330d02-82d9      0      0      0      0  ...          0          0   \n",
       "ad23fe5c-7b09      0      0      0      0  ...          0          0   \n",
       "f07d720c-0262     -2     -2     -2     -2  ...          0          0   \n",
       "1d49b311-8c45     -2     -2     -2     -2  ...          0          0   \n",
       "97d1d2eb-c72f      0      0      0      0  ...          0          0   \n",
       "\n",
       "               BILL_AMT6  PAY_AMT1  PAY_AMT2  PAY_AMT3  PAY_AMT4  PAY_AMT5  \\\n",
       "ID                                                                           \n",
       "42009c72-651f          0         0         0         0         0         0   \n",
       "73ed1381-3a3f          0         0         0         0         0         0   \n",
       "4f95b36b-ab10          0         0         0         0         0         0   \n",
       "8d3a2576-a958          0         0         0         0         0         0   \n",
       "d5aeb496-64e5          0         0         0         0         0         0   \n",
       "...                  ...       ...       ...       ...       ...       ...   \n",
       "90330d02-82d9          0         0         0         0         0         0   \n",
       "ad23fe5c-7b09          0         0         0         0         0         0   \n",
       "f07d720c-0262          0         0         0         0         0         0   \n",
       "1d49b311-8c45          0         0         0         0         0         0   \n",
       "97d1d2eb-c72f          0         0         0         0         0         0   \n",
       "\n",
       "               PAY_AMT6  default payment next month  \n",
       "ID                                                   \n",
       "42009c72-651f         0                           0  \n",
       "73ed1381-3a3f         0                           0  \n",
       "4f95b36b-ab10         0                           0  \n",
       "8d3a2576-a958         0                           0  \n",
       "d5aeb496-64e5         0                           0  \n",
       "...                 ...                         ...  \n",
       "90330d02-82d9         0                           0  \n",
       "ad23fe5c-7b09         0                           0  \n",
       "f07d720c-0262         0                           1  \n",
       "1d49b311-8c45         0                           0  \n",
       "97d1d2eb-c72f         0                           0  \n",
       "\n",
       "[361 rows x 23 columns]"
      ]
     },
     "execution_count": 6,
     "metadata": {},
     "output_type": "execute_result"
    }
   ],
   "source": [
    "df[df.duplicated()]"
   ]
  },
  {
   "cell_type": "code",
   "execution_count": 7,
   "id": "beginning-plasma",
   "metadata": {},
   "outputs": [
    {
     "name": "stdout",
     "output_type": "stream",
     "text": [
      "Há 361 observações repetidas.\n"
     ]
    }
   ],
   "source": [
    "print(f\"Há {df[df.duplicated()].shape[0]} observações repetidas.\")"
   ]
  },
  {
   "cell_type": "markdown",
   "id": "medium-spelling",
   "metadata": {},
   "source": [
    "## Exercício 2\n",
    "Se for caso, examine os IDs repetidos, e crie uma nova com os dados corrigidos."
   ]
  },
  {
   "cell_type": "code",
   "execution_count": 8,
   "id": "desperate-conspiracy",
   "metadata": {},
   "outputs": [],
   "source": [
    "df_duplicados = df[df.duplicated()].reset_index()"
   ]
  },
  {
   "cell_type": "code",
   "execution_count": 9,
   "id": "centered-match",
   "metadata": {
    "scrolled": true
   },
   "outputs": [
    {
     "data": {
      "text/html": [
       "<div>\n",
       "<style scoped>\n",
       "    .dataframe tbody tr th:only-of-type {\n",
       "        vertical-align: middle;\n",
       "    }\n",
       "\n",
       "    .dataframe tbody tr th {\n",
       "        vertical-align: top;\n",
       "    }\n",
       "\n",
       "    .dataframe thead th {\n",
       "        text-align: right;\n",
       "    }\n",
       "</style>\n",
       "<table border=\"1\" class=\"dataframe\">\n",
       "  <thead>\n",
       "    <tr style=\"text-align: right;\">\n",
       "      <th></th>\n",
       "      <th>LIMIT_BAL</th>\n",
       "      <th>EDUCATION</th>\n",
       "      <th>MARRIAGE</th>\n",
       "      <th>AGE</th>\n",
       "      <th>PAY_2</th>\n",
       "      <th>PAY_3</th>\n",
       "      <th>PAY_4</th>\n",
       "      <th>PAY_5</th>\n",
       "      <th>PAY_6</th>\n",
       "      <th>BILL_AMT1</th>\n",
       "      <th>...</th>\n",
       "      <th>BILL_AMT4</th>\n",
       "      <th>BILL_AMT5</th>\n",
       "      <th>BILL_AMT6</th>\n",
       "      <th>PAY_AMT1</th>\n",
       "      <th>PAY_AMT2</th>\n",
       "      <th>PAY_AMT3</th>\n",
       "      <th>PAY_AMT4</th>\n",
       "      <th>PAY_AMT5</th>\n",
       "      <th>PAY_AMT6</th>\n",
       "      <th>default payment next month</th>\n",
       "    </tr>\n",
       "  </thead>\n",
       "  <tbody>\n",
       "    <tr>\n",
       "      <th>count</th>\n",
       "      <td>361.000000</td>\n",
       "      <td>361.000000</td>\n",
       "      <td>361.000000</td>\n",
       "      <td>361.000000</td>\n",
       "      <td>361.000000</td>\n",
       "      <td>361.000000</td>\n",
       "      <td>361.000000</td>\n",
       "      <td>361.000000</td>\n",
       "      <td>361.000000</td>\n",
       "      <td>361.000000</td>\n",
       "      <td>...</td>\n",
       "      <td>361.000000</td>\n",
       "      <td>361.000000</td>\n",
       "      <td>361.000000</td>\n",
       "      <td>361.000000</td>\n",
       "      <td>361.000000</td>\n",
       "      <td>361.000000</td>\n",
       "      <td>361.000000</td>\n",
       "      <td>361.000000</td>\n",
       "      <td>361.000000</td>\n",
       "      <td>361.000000</td>\n",
       "    </tr>\n",
       "    <tr>\n",
       "      <th>mean</th>\n",
       "      <td>27506.925208</td>\n",
       "      <td>0.188366</td>\n",
       "      <td>0.204986</td>\n",
       "      <td>4.282548</td>\n",
       "      <td>-0.235457</td>\n",
       "      <td>-0.232687</td>\n",
       "      <td>-0.232687</td>\n",
       "      <td>-0.232687</td>\n",
       "      <td>-0.232687</td>\n",
       "      <td>19.498615</td>\n",
       "      <td>...</td>\n",
       "      <td>12.573407</td>\n",
       "      <td>12.573407</td>\n",
       "      <td>12.573407</td>\n",
       "      <td>8.002770</td>\n",
       "      <td>8.002770</td>\n",
       "      <td>8.002770</td>\n",
       "      <td>8.002770</td>\n",
       "      <td>8.002770</td>\n",
       "      <td>8.002770</td>\n",
       "      <td>0.027701</td>\n",
       "    </tr>\n",
       "    <tr>\n",
       "      <th>std</th>\n",
       "      <td>82991.904436</td>\n",
       "      <td>0.535390</td>\n",
       "      <td>0.559839</td>\n",
       "      <td>11.396293</td>\n",
       "      <td>0.651891</td>\n",
       "      <td>0.684053</td>\n",
       "      <td>0.684053</td>\n",
       "      <td>0.684053</td>\n",
       "      <td>0.684053</td>\n",
       "      <td>179.984677</td>\n",
       "      <td>...</td>\n",
       "      <td>123.515567</td>\n",
       "      <td>123.515567</td>\n",
       "      <td>123.515567</td>\n",
       "      <td>88.249095</td>\n",
       "      <td>88.249095</td>\n",
       "      <td>88.249095</td>\n",
       "      <td>88.249095</td>\n",
       "      <td>88.249095</td>\n",
       "      <td>88.249095</td>\n",
       "      <td>0.164342</td>\n",
       "    </tr>\n",
       "    <tr>\n",
       "      <th>min</th>\n",
       "      <td>0.000000</td>\n",
       "      <td>0.000000</td>\n",
       "      <td>0.000000</td>\n",
       "      <td>0.000000</td>\n",
       "      <td>-2.000000</td>\n",
       "      <td>-2.000000</td>\n",
       "      <td>-2.000000</td>\n",
       "      <td>-2.000000</td>\n",
       "      <td>-2.000000</td>\n",
       "      <td>0.000000</td>\n",
       "      <td>...</td>\n",
       "      <td>0.000000</td>\n",
       "      <td>0.000000</td>\n",
       "      <td>0.000000</td>\n",
       "      <td>0.000000</td>\n",
       "      <td>0.000000</td>\n",
       "      <td>0.000000</td>\n",
       "      <td>0.000000</td>\n",
       "      <td>0.000000</td>\n",
       "      <td>0.000000</td>\n",
       "      <td>0.000000</td>\n",
       "    </tr>\n",
       "    <tr>\n",
       "      <th>25%</th>\n",
       "      <td>0.000000</td>\n",
       "      <td>0.000000</td>\n",
       "      <td>0.000000</td>\n",
       "      <td>0.000000</td>\n",
       "      <td>0.000000</td>\n",
       "      <td>0.000000</td>\n",
       "      <td>0.000000</td>\n",
       "      <td>0.000000</td>\n",
       "      <td>0.000000</td>\n",
       "      <td>0.000000</td>\n",
       "      <td>...</td>\n",
       "      <td>0.000000</td>\n",
       "      <td>0.000000</td>\n",
       "      <td>0.000000</td>\n",
       "      <td>0.000000</td>\n",
       "      <td>0.000000</td>\n",
       "      <td>0.000000</td>\n",
       "      <td>0.000000</td>\n",
       "      <td>0.000000</td>\n",
       "      <td>0.000000</td>\n",
       "      <td>0.000000</td>\n",
       "    </tr>\n",
       "    <tr>\n",
       "      <th>50%</th>\n",
       "      <td>0.000000</td>\n",
       "      <td>0.000000</td>\n",
       "      <td>0.000000</td>\n",
       "      <td>0.000000</td>\n",
       "      <td>0.000000</td>\n",
       "      <td>0.000000</td>\n",
       "      <td>0.000000</td>\n",
       "      <td>0.000000</td>\n",
       "      <td>0.000000</td>\n",
       "      <td>0.000000</td>\n",
       "      <td>...</td>\n",
       "      <td>0.000000</td>\n",
       "      <td>0.000000</td>\n",
       "      <td>0.000000</td>\n",
       "      <td>0.000000</td>\n",
       "      <td>0.000000</td>\n",
       "      <td>0.000000</td>\n",
       "      <td>0.000000</td>\n",
       "      <td>0.000000</td>\n",
       "      <td>0.000000</td>\n",
       "      <td>0.000000</td>\n",
       "    </tr>\n",
       "    <tr>\n",
       "      <th>75%</th>\n",
       "      <td>0.000000</td>\n",
       "      <td>0.000000</td>\n",
       "      <td>0.000000</td>\n",
       "      <td>0.000000</td>\n",
       "      <td>0.000000</td>\n",
       "      <td>0.000000</td>\n",
       "      <td>0.000000</td>\n",
       "      <td>0.000000</td>\n",
       "      <td>0.000000</td>\n",
       "      <td>0.000000</td>\n",
       "      <td>...</td>\n",
       "      <td>0.000000</td>\n",
       "      <td>0.000000</td>\n",
       "      <td>0.000000</td>\n",
       "      <td>0.000000</td>\n",
       "      <td>0.000000</td>\n",
       "      <td>0.000000</td>\n",
       "      <td>0.000000</td>\n",
       "      <td>0.000000</td>\n",
       "      <td>0.000000</td>\n",
       "      <td>0.000000</td>\n",
       "    </tr>\n",
       "    <tr>\n",
       "      <th>max</th>\n",
       "      <td>500000.000000</td>\n",
       "      <td>3.000000</td>\n",
       "      <td>2.000000</td>\n",
       "      <td>49.000000</td>\n",
       "      <td>2.000000</td>\n",
       "      <td>4.000000</td>\n",
       "      <td>4.000000</td>\n",
       "      <td>4.000000</td>\n",
       "      <td>4.000000</td>\n",
       "      <td>2500.000000</td>\n",
       "      <td>...</td>\n",
       "      <td>1650.000000</td>\n",
       "      <td>1650.000000</td>\n",
       "      <td>1650.000000</td>\n",
       "      <td>1443.000000</td>\n",
       "      <td>1443.000000</td>\n",
       "      <td>1443.000000</td>\n",
       "      <td>1443.000000</td>\n",
       "      <td>1443.000000</td>\n",
       "      <td>1443.000000</td>\n",
       "      <td>1.000000</td>\n",
       "    </tr>\n",
       "  </tbody>\n",
       "</table>\n",
       "<p>8 rows × 22 columns</p>\n",
       "</div>"
      ],
      "text/plain": [
       "           LIMIT_BAL   EDUCATION    MARRIAGE         AGE       PAY_2  \\\n",
       "count     361.000000  361.000000  361.000000  361.000000  361.000000   \n",
       "mean    27506.925208    0.188366    0.204986    4.282548   -0.235457   \n",
       "std     82991.904436    0.535390    0.559839   11.396293    0.651891   \n",
       "min         0.000000    0.000000    0.000000    0.000000   -2.000000   \n",
       "25%         0.000000    0.000000    0.000000    0.000000    0.000000   \n",
       "50%         0.000000    0.000000    0.000000    0.000000    0.000000   \n",
       "75%         0.000000    0.000000    0.000000    0.000000    0.000000   \n",
       "max    500000.000000    3.000000    2.000000   49.000000    2.000000   \n",
       "\n",
       "            PAY_3       PAY_4       PAY_5       PAY_6    BILL_AMT1  ...  \\\n",
       "count  361.000000  361.000000  361.000000  361.000000   361.000000  ...   \n",
       "mean    -0.232687   -0.232687   -0.232687   -0.232687    19.498615  ...   \n",
       "std      0.684053    0.684053    0.684053    0.684053   179.984677  ...   \n",
       "min     -2.000000   -2.000000   -2.000000   -2.000000     0.000000  ...   \n",
       "25%      0.000000    0.000000    0.000000    0.000000     0.000000  ...   \n",
       "50%      0.000000    0.000000    0.000000    0.000000     0.000000  ...   \n",
       "75%      0.000000    0.000000    0.000000    0.000000     0.000000  ...   \n",
       "max      4.000000    4.000000    4.000000    4.000000  2500.000000  ...   \n",
       "\n",
       "         BILL_AMT4    BILL_AMT5    BILL_AMT6     PAY_AMT1     PAY_AMT2  \\\n",
       "count   361.000000   361.000000   361.000000   361.000000   361.000000   \n",
       "mean     12.573407    12.573407    12.573407     8.002770     8.002770   \n",
       "std     123.515567   123.515567   123.515567    88.249095    88.249095   \n",
       "min       0.000000     0.000000     0.000000     0.000000     0.000000   \n",
       "25%       0.000000     0.000000     0.000000     0.000000     0.000000   \n",
       "50%       0.000000     0.000000     0.000000     0.000000     0.000000   \n",
       "75%       0.000000     0.000000     0.000000     0.000000     0.000000   \n",
       "max    1650.000000  1650.000000  1650.000000  1443.000000  1443.000000   \n",
       "\n",
       "          PAY_AMT3     PAY_AMT4     PAY_AMT5     PAY_AMT6  \\\n",
       "count   361.000000   361.000000   361.000000   361.000000   \n",
       "mean      8.002770     8.002770     8.002770     8.002770   \n",
       "std      88.249095    88.249095    88.249095    88.249095   \n",
       "min       0.000000     0.000000     0.000000     0.000000   \n",
       "25%       0.000000     0.000000     0.000000     0.000000   \n",
       "50%       0.000000     0.000000     0.000000     0.000000   \n",
       "75%       0.000000     0.000000     0.000000     0.000000   \n",
       "max    1443.000000  1443.000000  1443.000000  1443.000000   \n",
       "\n",
       "       default payment next month  \n",
       "count                  361.000000  \n",
       "mean                     0.027701  \n",
       "std                      0.164342  \n",
       "min                      0.000000  \n",
       "25%                      0.000000  \n",
       "50%                      0.000000  \n",
       "75%                      0.000000  \n",
       "max                      1.000000  \n",
       "\n",
       "[8 rows x 22 columns]"
      ]
     },
     "execution_count": 9,
     "metadata": {},
     "output_type": "execute_result"
    }
   ],
   "source": [
    "df_duplicados.describe()"
   ]
  },
  {
   "cell_type": "code",
   "execution_count": 10,
   "id": "frozen-nicaragua",
   "metadata": {},
   "outputs": [
    {
     "data": {
      "text/html": [
       "<div>\n",
       "<style scoped>\n",
       "    .dataframe tbody tr th:only-of-type {\n",
       "        vertical-align: middle;\n",
       "    }\n",
       "\n",
       "    .dataframe tbody tr th {\n",
       "        vertical-align: top;\n",
       "    }\n",
       "\n",
       "    .dataframe thead th {\n",
       "        text-align: right;\n",
       "    }\n",
       "</style>\n",
       "<table border=\"1\" class=\"dataframe\">\n",
       "  <thead>\n",
       "    <tr style=\"text-align: right;\">\n",
       "      <th></th>\n",
       "      <th>LIMIT_BAL</th>\n",
       "      <th>EDUCATION</th>\n",
       "      <th>MARRIAGE</th>\n",
       "      <th>AGE</th>\n",
       "      <th>PAY_2</th>\n",
       "      <th>PAY_3</th>\n",
       "      <th>PAY_4</th>\n",
       "      <th>PAY_5</th>\n",
       "      <th>PAY_6</th>\n",
       "      <th>BILL_AMT1</th>\n",
       "      <th>...</th>\n",
       "      <th>BILL_AMT4</th>\n",
       "      <th>BILL_AMT5</th>\n",
       "      <th>BILL_AMT6</th>\n",
       "      <th>PAY_AMT1</th>\n",
       "      <th>PAY_AMT2</th>\n",
       "      <th>PAY_AMT3</th>\n",
       "      <th>PAY_AMT4</th>\n",
       "      <th>PAY_AMT5</th>\n",
       "      <th>PAY_AMT6</th>\n",
       "      <th>default payment next month</th>\n",
       "    </tr>\n",
       "  </thead>\n",
       "  <tbody>\n",
       "    <tr>\n",
       "      <th>count</th>\n",
       "      <td>29639.000000</td>\n",
       "      <td>29639.000000</td>\n",
       "      <td>29639.00000</td>\n",
       "      <td>29639.000000</td>\n",
       "      <td>29639.000000</td>\n",
       "      <td>29639.000000</td>\n",
       "      <td>29639.000000</td>\n",
       "      <td>29639.000000</td>\n",
       "      <td>29639.000000</td>\n",
       "      <td>29639.000000</td>\n",
       "      <td>...</td>\n",
       "      <td>29639.000000</td>\n",
       "      <td>29639.00000</td>\n",
       "      <td>29639.000000</td>\n",
       "      <td>29639.000000</td>\n",
       "      <td>2.963900e+04</td>\n",
       "      <td>29639.000000</td>\n",
       "      <td>29639.000000</td>\n",
       "      <td>29639.000000</td>\n",
       "      <td>29639.000000</td>\n",
       "      <td>29639.000000</td>\n",
       "    </tr>\n",
       "    <tr>\n",
       "      <th>mean</th>\n",
       "      <td>167444.909747</td>\n",
       "      <td>1.853369</td>\n",
       "      <td>1.55211</td>\n",
       "      <td>35.484261</td>\n",
       "      <td>-0.131617</td>\n",
       "      <td>-0.163501</td>\n",
       "      <td>-0.219137</td>\n",
       "      <td>-0.264280</td>\n",
       "      <td>-0.288707</td>\n",
       "      <td>51263.378926</td>\n",
       "      <td>...</td>\n",
       "      <td>43312.403455</td>\n",
       "      <td>40370.03293</td>\n",
       "      <td>38948.884544</td>\n",
       "      <td>5681.593711</td>\n",
       "      <td>5.926631e+03</td>\n",
       "      <td>5237.314012</td>\n",
       "      <td>4834.164547</td>\n",
       "      <td>4812.564088</td>\n",
       "      <td>5227.025507</td>\n",
       "      <td>0.221060</td>\n",
       "    </tr>\n",
       "    <tr>\n",
       "      <th>std</th>\n",
       "      <td>129723.917076</td>\n",
       "      <td>0.789608</td>\n",
       "      <td>0.52198</td>\n",
       "      <td>9.216456</td>\n",
       "      <td>1.196238</td>\n",
       "      <td>1.195930</td>\n",
       "      <td>1.166972</td>\n",
       "      <td>1.131852</td>\n",
       "      <td>1.149446</td>\n",
       "      <td>73607.877625</td>\n",
       "      <td>...</td>\n",
       "      <td>64304.262212</td>\n",
       "      <td>60813.69793</td>\n",
       "      <td>59614.720598</td>\n",
       "      <td>16627.868358</td>\n",
       "      <td>2.312305e+04</td>\n",
       "      <td>17662.875815</td>\n",
       "      <td>15618.230899</td>\n",
       "      <td>15322.533122</td>\n",
       "      <td>17811.009256</td>\n",
       "      <td>0.414968</td>\n",
       "    </tr>\n",
       "    <tr>\n",
       "      <th>min</th>\n",
       "      <td>0.000000</td>\n",
       "      <td>0.000000</td>\n",
       "      <td>0.00000</td>\n",
       "      <td>0.000000</td>\n",
       "      <td>-2.000000</td>\n",
       "      <td>-2.000000</td>\n",
       "      <td>-2.000000</td>\n",
       "      <td>-2.000000</td>\n",
       "      <td>-2.000000</td>\n",
       "      <td>-165580.000000</td>\n",
       "      <td>...</td>\n",
       "      <td>-170000.000000</td>\n",
       "      <td>-81334.00000</td>\n",
       "      <td>-339603.000000</td>\n",
       "      <td>0.000000</td>\n",
       "      <td>0.000000e+00</td>\n",
       "      <td>0.000000</td>\n",
       "      <td>0.000000</td>\n",
       "      <td>0.000000</td>\n",
       "      <td>0.000000</td>\n",
       "      <td>0.000000</td>\n",
       "    </tr>\n",
       "    <tr>\n",
       "      <th>25%</th>\n",
       "      <td>50000.000000</td>\n",
       "      <td>1.000000</td>\n",
       "      <td>1.00000</td>\n",
       "      <td>28.000000</td>\n",
       "      <td>-1.000000</td>\n",
       "      <td>-1.000000</td>\n",
       "      <td>-1.000000</td>\n",
       "      <td>-1.000000</td>\n",
       "      <td>-1.000000</td>\n",
       "      <td>3607.000000</td>\n",
       "      <td>...</td>\n",
       "      <td>2375.500000</td>\n",
       "      <td>1792.50000</td>\n",
       "      <td>1271.000000</td>\n",
       "      <td>1000.000000</td>\n",
       "      <td>8.500000e+02</td>\n",
       "      <td>392.000000</td>\n",
       "      <td>300.000000</td>\n",
       "      <td>264.000000</td>\n",
       "      <td>132.500000</td>\n",
       "      <td>0.000000</td>\n",
       "    </tr>\n",
       "    <tr>\n",
       "      <th>50%</th>\n",
       "      <td>140000.000000</td>\n",
       "      <td>2.000000</td>\n",
       "      <td>2.00000</td>\n",
       "      <td>34.000000</td>\n",
       "      <td>0.000000</td>\n",
       "      <td>0.000000</td>\n",
       "      <td>0.000000</td>\n",
       "      <td>0.000000</td>\n",
       "      <td>0.000000</td>\n",
       "      <td>22458.000000</td>\n",
       "      <td>...</td>\n",
       "      <td>19087.000000</td>\n",
       "      <td>18140.00000</td>\n",
       "      <td>17129.000000</td>\n",
       "      <td>2106.000000</td>\n",
       "      <td>2.010000e+03</td>\n",
       "      <td>1810.000000</td>\n",
       "      <td>1500.000000</td>\n",
       "      <td>1500.000000</td>\n",
       "      <td>1500.000000</td>\n",
       "      <td>0.000000</td>\n",
       "    </tr>\n",
       "    <tr>\n",
       "      <th>75%</th>\n",
       "      <td>240000.000000</td>\n",
       "      <td>2.000000</td>\n",
       "      <td>2.00000</td>\n",
       "      <td>41.000000</td>\n",
       "      <td>0.000000</td>\n",
       "      <td>0.000000</td>\n",
       "      <td>0.000000</td>\n",
       "      <td>0.000000</td>\n",
       "      <td>0.000000</td>\n",
       "      <td>67174.000000</td>\n",
       "      <td>...</td>\n",
       "      <td>54610.000000</td>\n",
       "      <td>50301.50000</td>\n",
       "      <td>49316.500000</td>\n",
       "      <td>5011.000000</td>\n",
       "      <td>5.000000e+03</td>\n",
       "      <td>4523.500000</td>\n",
       "      <td>4026.500000</td>\n",
       "      <td>4059.000000</td>\n",
       "      <td>4003.000000</td>\n",
       "      <td>0.000000</td>\n",
       "    </tr>\n",
       "    <tr>\n",
       "      <th>max</th>\n",
       "      <td>1000000.000000</td>\n",
       "      <td>6.000000</td>\n",
       "      <td>3.00000</td>\n",
       "      <td>79.000000</td>\n",
       "      <td>8.000000</td>\n",
       "      <td>8.000000</td>\n",
       "      <td>8.000000</td>\n",
       "      <td>8.000000</td>\n",
       "      <td>8.000000</td>\n",
       "      <td>964511.000000</td>\n",
       "      <td>...</td>\n",
       "      <td>891586.000000</td>\n",
       "      <td>927171.00000</td>\n",
       "      <td>961664.000000</td>\n",
       "      <td>873552.000000</td>\n",
       "      <td>1.684259e+06</td>\n",
       "      <td>896040.000000</td>\n",
       "      <td>621000.000000</td>\n",
       "      <td>426529.000000</td>\n",
       "      <td>528666.000000</td>\n",
       "      <td>1.000000</td>\n",
       "    </tr>\n",
       "  </tbody>\n",
       "</table>\n",
       "<p>8 rows × 22 columns</p>\n",
       "</div>"
      ],
      "text/plain": [
       "            LIMIT_BAL     EDUCATION     MARRIAGE           AGE         PAY_2  \\\n",
       "count    29639.000000  29639.000000  29639.00000  29639.000000  29639.000000   \n",
       "mean    167444.909747      1.853369      1.55211     35.484261     -0.131617   \n",
       "std     129723.917076      0.789608      0.52198      9.216456      1.196238   \n",
       "min          0.000000      0.000000      0.00000      0.000000     -2.000000   \n",
       "25%      50000.000000      1.000000      1.00000     28.000000     -1.000000   \n",
       "50%     140000.000000      2.000000      2.00000     34.000000      0.000000   \n",
       "75%     240000.000000      2.000000      2.00000     41.000000      0.000000   \n",
       "max    1000000.000000      6.000000      3.00000     79.000000      8.000000   \n",
       "\n",
       "              PAY_3         PAY_4         PAY_5         PAY_6      BILL_AMT1  \\\n",
       "count  29639.000000  29639.000000  29639.000000  29639.000000   29639.000000   \n",
       "mean      -0.163501     -0.219137     -0.264280     -0.288707   51263.378926   \n",
       "std        1.195930      1.166972      1.131852      1.149446   73607.877625   \n",
       "min       -2.000000     -2.000000     -2.000000     -2.000000 -165580.000000   \n",
       "25%       -1.000000     -1.000000     -1.000000     -1.000000    3607.000000   \n",
       "50%        0.000000      0.000000      0.000000      0.000000   22458.000000   \n",
       "75%        0.000000      0.000000      0.000000      0.000000   67174.000000   \n",
       "max        8.000000      8.000000      8.000000      8.000000  964511.000000   \n",
       "\n",
       "       ...      BILL_AMT4     BILL_AMT5      BILL_AMT6       PAY_AMT1  \\\n",
       "count  ...   29639.000000   29639.00000   29639.000000   29639.000000   \n",
       "mean   ...   43312.403455   40370.03293   38948.884544    5681.593711   \n",
       "std    ...   64304.262212   60813.69793   59614.720598   16627.868358   \n",
       "min    ... -170000.000000  -81334.00000 -339603.000000       0.000000   \n",
       "25%    ...    2375.500000    1792.50000    1271.000000    1000.000000   \n",
       "50%    ...   19087.000000   18140.00000   17129.000000    2106.000000   \n",
       "75%    ...   54610.000000   50301.50000   49316.500000    5011.000000   \n",
       "max    ...  891586.000000  927171.00000  961664.000000  873552.000000   \n",
       "\n",
       "           PAY_AMT2       PAY_AMT3       PAY_AMT4       PAY_AMT5  \\\n",
       "count  2.963900e+04   29639.000000   29639.000000   29639.000000   \n",
       "mean   5.926631e+03    5237.314012    4834.164547    4812.564088   \n",
       "std    2.312305e+04   17662.875815   15618.230899   15322.533122   \n",
       "min    0.000000e+00       0.000000       0.000000       0.000000   \n",
       "25%    8.500000e+02     392.000000     300.000000     264.000000   \n",
       "50%    2.010000e+03    1810.000000    1500.000000    1500.000000   \n",
       "75%    5.000000e+03    4523.500000    4026.500000    4059.000000   \n",
       "max    1.684259e+06  896040.000000  621000.000000  426529.000000   \n",
       "\n",
       "            PAY_AMT6  default payment next month  \n",
       "count   29639.000000                29639.000000  \n",
       "mean     5227.025507                    0.221060  \n",
       "std     17811.009256                    0.414968  \n",
       "min         0.000000                    0.000000  \n",
       "25%       132.500000                    0.000000  \n",
       "50%      1500.000000                    0.000000  \n",
       "75%      4003.000000                    0.000000  \n",
       "max    528666.000000                    1.000000  \n",
       "\n",
       "[8 rows x 22 columns]"
      ]
     },
     "execution_count": 10,
     "metadata": {},
     "output_type": "execute_result"
    }
   ],
   "source": [
    "df.drop_duplicates().describe()"
   ]
  },
  {
   "cell_type": "code",
   "execution_count": 11,
   "id": "measured-telephone",
   "metadata": {},
   "outputs": [
    {
     "data": {
      "text/plain": [
       "<AxesSubplot:xlabel='EDUCATION', ylabel='Count'>"
      ]
     },
     "execution_count": 11,
     "metadata": {},
     "output_type": "execute_result"
    },
    {
     "data": {
      "image/png": "[encoded data removed]",
      "text/plain": [
       "<Figure size 432x288 with 1 Axes>"
      ]
     },
     "metadata": {
      "needs_background": "light"
     },
     "output_type": "display_data"
    }
   ],
   "source": [
    "sns.histplot(data=df_duplicados, x=\"EDUCATION\")"
   ]
  },
  {
   "cell_type": "code",
   "execution_count": 12,
   "id": "integral-cambodia",
   "metadata": {},
   "outputs": [
    {
     "data": {
      "text/plain": [
       "<AxesSubplot:xlabel='AGE', ylabel='Count'>"
      ]
     },
     "execution_count": 12,
     "metadata": {},
     "output_type": "execute_result"
    },
    {
     "data": {
      "image/png": "[encoded data removed]",
      "text/plain": [
       "<Figure size 432x288 with 1 Axes>"
      ]
     },
     "metadata": {
      "needs_background": "light"
     },
     "output_type": "display_data"
    }
   ],
   "source": [
    "sns.histplot(data=df_duplicados, x=\"AGE\")"
   ]
  },
  {
   "cell_type": "markdown",
   "id": "bacterial-missouri",
   "metadata": {},
   "source": [
    "Há uma quantidade enorme de dados faltantes na base duplicada. Na variável `AGE`, por exemplo, há várias observações com idade 0, mesmo não sendo possível. Por isso, creio que os dados faltantes, comumente representados por `NaN`, nesta base, estão substituídos pelo valor zero. "
   ]
  },
  {
   "cell_type": "code",
   "execution_count": 13,
   "id": "great-fellow",
   "metadata": {},
   "outputs": [],
   "source": [
    "new_df = df.drop_duplicates().reset_index()"
   ]
  },
  {
   "cell_type": "markdown",
   "id": "occupied-complaint",
   "metadata": {},
   "source": [
    "## Exercício 3\n",
    "Continuando a exploração dos dados, analise o tipo da variável `PAY_1`. Discuta se ha algum problema e como corrigir."
   ]
  },
  {
   "cell_type": "markdown",
   "id": "employed-owner",
   "metadata": {},
   "source": [
    "A variável `PAY_1` é o histórico de pagamentos do mês de setembro."
   ]
  },
  {
   "cell_type": "code",
   "execution_count": 14,
   "id": "adjacent-rebel",
   "metadata": {
    "scrolled": true
   },
   "outputs": [
    {
     "data": {
      "text/plain": [
       "<AxesSubplot:xlabel='PAY_1', ylabel='Count'>"
      ]
     },
     "execution_count": 14,
     "metadata": {},
     "output_type": "execute_result"
    },
    {
     "data": {
      "image/png": "[encoded data removed]",
      "text/plain": [
       "<Figure size 432x288 with 1 Axes>"
      ]
     },
     "metadata": {
      "needs_background": "light"
     },
     "output_type": "display_data"
    }
   ],
   "source": [
    "sns.histplot(data=new_df.sort_values(\"PAY_1\"), x=\"PAY_1\")"
   ]
  },
  {
   "cell_type": "markdown",
   "id": "driven-dictionary",
   "metadata": {},
   "source": [
    "Cartões de crédito normalmente definem duas datas: a data de fechamento da fatura, em que todas as compras até ali são compiladas e enviadas para o usuário; e a data de vencimento da fatura, que é o limite para o pagamento.\n",
    "\n",
    "Na variável `PAY_1`, temos 3 valores que não se encaixam na descrição:\n",
    "- Not available: para esse caso, suponho que a fatura do mês não tinha sido fechada ainda.\n",
    "- 0: $PAY\\_1 == -1$ significa que foi paga até da data de vencimento, e $PAY\\_1 == 1$ pagamento atrasado em um mês. Portanto, suponho que o pagamento não tinha sido feito ainda. Ou seja, a fatura estava fechada, mas não estava paga e nem atrasada.\n",
    "- -2: Uma possivel explicação seria que não havia nenhum pagamento a se fazer.\n",
    "\n",
    "É necessário, portanto, verificar se essas hipóteses batem com a confecção do dataframe ou se foi algum erro/problema. "
   ]
  },
  {
   "cell_type": "code",
   "execution_count": 15,
   "id": "circular-dancing",
   "metadata": {},
   "outputs": [
    {
     "data": {
      "text/plain": [
       "29639"
      ]
     },
     "execution_count": 15,
     "metadata": {},
     "output_type": "execute_result"
    }
   ],
   "source": [
    "new_df.shape[0]"
   ]
  },
  {
   "cell_type": "code",
   "execution_count": 16,
   "id": "skilled-austin",
   "metadata": {},
   "outputs": [
    {
     "data": {
      "text/plain": [
       "0.3734606430716286"
      ]
     },
     "execution_count": 16,
     "metadata": {},
     "output_type": "execute_result"
    }
   ],
   "source": [
    "new_df.query(\n",
    "    \"PAY_1 != 'Not available'\"\n",
    "    \"& PAY_1 != '0' \"\n",
    "    \"& PAY_1 != '-2'\"\n",
    ").shape[0]/new_df.shape[0]"
   ]
  },
  {
   "cell_type": "markdown",
   "id": "compound-marker",
   "metadata": {},
   "source": [
    "Como a variável reposta assume uma distribuição Bernoulli, a média é um estimador para a probabilidade de fraude."
   ]
  },
  {
   "cell_type": "code",
   "execution_count": 17,
   "id": "indie-percentage",
   "metadata": {},
   "outputs": [
    {
     "data": {
      "text/plain": [
       "0.35242569337790225"
      ]
     },
     "execution_count": 17,
     "metadata": {},
     "output_type": "execute_result"
    }
   ],
   "source": [
    "new_df.query(\n",
    "    \"PAY_1 != 'Not available'\"\n",
    "    \"& PAY_1 != '0' \"\n",
    "    \"& PAY_1 != '-2'\"\n",
    ")['default payment next month'].mean()"
   ]
  },
  {
   "cell_type": "code",
   "execution_count": 18,
   "id": "corporate-teach",
   "metadata": {},
   "outputs": [
    {
     "data": {
      "text/plain": [
       "0.22106008974661764"
      ]
     },
     "execution_count": 18,
     "metadata": {},
     "output_type": "execute_result"
    }
   ],
   "source": [
    "new_df['default payment next month'].mean()"
   ]
  },
  {
   "cell_type": "markdown",
   "id": "bridal-incident",
   "metadata": {},
   "source": [
    "Na prática, para a hipótese em que não temos informações sobre o pagamento do mês atual, poderíamos deslocar os valores da seguinte maneira:\n",
    "- `PAY_1` assume o valor da variável `PAY_2`\n",
    "- `PAY_2` assume o valor da variável `PAY_3`\n",
    "- ...\n",
    "- Na última, colocamos algum valor que identifique ausência de informação, diferente dos valores que já temos da variável.\n",
    "\n",
    "\n",
    "A probabilidade de fraude aumenta quando retiramos esses dados. Isso nos diz que os IDs desses valores tem pagamento no prazo.\n",
    "\n",
    "Outra alternativa, seria fazer uma média de ponderada dos status de pagamento dos meses anteriores, valorizando mais (pesos maiores) os meses próximos e desvalorizando (pesos menores) para os meses distantes.\n",
    "\n",
    "Por isso, é necessário analisar o impacto que essa remoção teria conforme o modelo utilizado."
   ]
  },
  {
   "cell_type": "markdown",
   "id": "lonely-definition",
   "metadata": {},
   "source": [
    "## Exercício 4\n",
    "1. Plote os histogramas de `AGE` e `LIMIT_BAL`, e calcule as médias e variâncias"
   ]
  },
  {
   "cell_type": "code",
   "execution_count": 19,
   "id": "interracial-customer",
   "metadata": {
    "scrolled": false
   },
   "outputs": [
    {
     "data": {
      "text/plain": [
       "<AxesSubplot:xlabel='AGE', ylabel='Count'>"
      ]
     },
     "execution_count": 19,
     "metadata": {},
     "output_type": "execute_result"
    },
    {
     "data": {
      "image/png": "[encoded data removed]",
      "text/plain": [
       "<Figure size 432x288 with 1 Axes>"
      ]
     },
     "metadata": {
      "needs_background": "light"
     },
     "output_type": "display_data"
    }
   ],
   "source": [
    "sns.histplot(new_df.AGE)"
   ]
  },
  {
   "cell_type": "code",
   "execution_count": 20,
   "id": "analyzed-indicator",
   "metadata": {},
   "outputs": [
    {
     "name": "stdout",
     "output_type": "stream",
     "text": [
      "média: 35.484260602584435\n",
      "variância: 84.94305984111936\n"
     ]
    }
   ],
   "source": [
    "print(f\"média: {new_df.AGE.mean()}\")\n",
    "print(f\"variância: {new_df.AGE.var()}\")"
   ]
  },
  {
   "cell_type": "markdown",
   "id": "checked-sociology",
   "metadata": {},
   "source": [
    "A variável AGE tem assimetria a direita."
   ]
  },
  {
   "cell_type": "code",
   "execution_count": 21,
   "id": "secure-quality",
   "metadata": {
    "scrolled": true
   },
   "outputs": [
    {
     "data": {
      "text/plain": [
       "<AxesSubplot:xlabel='LIMIT_BAL', ylabel='Count'>"
      ]
     },
     "execution_count": 21,
     "metadata": {},
     "output_type": "execute_result"
    },
    {
     "data": {
      "image/png": "[encoded data removed]",
      "text/plain": [
       "<Figure size 432x288 with 1 Axes>"
      ]
     },
     "metadata": {
      "needs_background": "light"
     },
     "output_type": "display_data"
    }
   ],
   "source": [
    "sns.histplot(new_df['LIMIT_BAL'], bins=30)"
   ]
  },
  {
   "cell_type": "code",
   "execution_count": 22,
   "id": "retained-manor",
   "metadata": {
    "scrolled": true
   },
   "outputs": [
    {
     "name": "stdout",
     "output_type": "stream",
     "text": [
      "média: 167444.90974729243\n",
      "variância: 16828294661.581251\n"
     ]
    }
   ],
   "source": [
    "print(f\"média: {new_df['LIMIT_BAL'].mean()}\")\n",
    "print(f\"variância: {new_df['LIMIT_BAL'].var()}\")"
   ]
  },
  {
   "cell_type": "markdown",
   "id": "answering-services",
   "metadata": {},
   "source": [
    "Variável `LIMIT_BAL` também tem assimetria a direita. "
   ]
  },
  {
   "cell_type": "markdown",
   "id": "oriental-norwegian",
   "metadata": {},
   "source": [
    "2. Verifique a integridade da variavel indicadora `EDUCATION`. Faça o mesmo para `MARRIAGE`."
   ]
  },
  {
   "cell_type": "code",
   "execution_count": 23,
   "id": "internal-bruce",
   "metadata": {},
   "outputs": [
    {
     "data": {
      "text/plain": [
       "<AxesSubplot:xlabel='EDUCATION', ylabel='Count'>"
      ]
     },
     "execution_count": 23,
     "metadata": {},
     "output_type": "execute_result"
    },
    {
     "data": {
      "image/png": "[encoded data removed]",
      "text/plain": [
       "<Figure size 432x288 with 1 Axes>"
      ]
     },
     "metadata": {
      "needs_background": "light"
     },
     "output_type": "display_data"
    }
   ],
   "source": [
    "sns.histplot(new_df.EDUCATION)"
   ]
  },
  {
   "cell_type": "code",
   "execution_count": 39,
   "id": "combined-release",
   "metadata": {
    "scrolled": false
   },
   "outputs": [
    {
     "data": {
      "text/plain": [
       "2    13869\n",
       "1    10445\n",
       "3     4864\n",
       "5      275\n",
       "4      122\n",
       "6       49\n",
       "0       15\n",
       "Name: EDUCATION, dtype: int64"
      ]
     },
     "execution_count": 39,
     "metadata": {},
     "output_type": "execute_result"
    }
   ],
   "source": [
    "new_df.EDUCATION.value_counts()"
   ]
  },
  {
   "cell_type": "code",
   "execution_count": 24,
   "id": "individual-engineer",
   "metadata": {},
   "outputs": [
    {
     "data": {
      "text/plain": [
       "<AxesSubplot:xlabel='MARRIAGE', ylabel='Count'>"
      ]
     },
     "execution_count": 24,
     "metadata": {},
     "output_type": "execute_result"
    },
    {
     "data": {
      "image/png": "[encoded data removed]",
      "text/plain": [
       "<Figure size 432x288 with 1 Axes>"
      ]
     },
     "metadata": {
      "needs_background": "light"
     },
     "output_type": "display_data"
    }
   ],
   "source": [
    "sns.histplot(new_df.MARRIAGE)"
   ]
  },
  {
   "cell_type": "code",
   "execution_count": 25,
   "id": "developed-pitch",
   "metadata": {
    "scrolled": false
   },
   "outputs": [
    {
     "data": {
      "text/plain": [
       "2    15783\n",
       "1    13483\n",
       "3      318\n",
       "0       55\n",
       "Name: MARRIAGE, dtype: int64"
      ]
     },
     "execution_count": 25,
     "metadata": {},
     "output_type": "execute_result"
    }
   ],
   "source": [
    "new_df.MARRIAGE.value_counts()"
   ]
  },
  {
   "cell_type": "markdown",
   "id": "eastern-fossil",
   "metadata": {},
   "source": [
    "As duas variáveis tem valores zero, que por sua vez não tem descrição. Possivelmente faltantes pois essas duas variáveis contém a alternativa \"outros\" que poderia englobar ocasiões atípicas."
   ]
  },
  {
   "cell_type": "markdown",
   "id": "satisfactory-harvest",
   "metadata": {},
   "source": [
    "## Exercício 5\n",
    "Realize o one-hot encoding para a variável `EDUCATION`."
   ]
  },
  {
   "cell_type": "code",
   "execution_count": 26,
   "id": "transsexual-lotus",
   "metadata": {},
   "outputs": [],
   "source": [
    "encoder = OneHotEncoder(sparse=False)\n",
    "dummies = encoder.fit_transform(new_df.EDUCATION.to_numpy().reshape(-1,1))"
   ]
  },
  {
   "cell_type": "code",
   "execution_count": 27,
   "id": "coastal-layer",
   "metadata": {},
   "outputs": [],
   "source": [
    "dummies_columns = encoder.get_feature_names_out([\"EDUCATION\"])"
   ]
  },
  {
   "cell_type": "code",
   "execution_count": 28,
   "id": "powerful-sauce",
   "metadata": {},
   "outputs": [],
   "source": [
    "dummies_df = pd.DataFrame(dummies, columns=dummies_columns)"
   ]
  },
  {
   "cell_type": "code",
   "execution_count": 29,
   "id": "governing-genesis",
   "metadata": {},
   "outputs": [
    {
     "data": {
      "text/html": [
       "<div>\n",
       "<style scoped>\n",
       "    .dataframe tbody tr th:only-of-type {\n",
       "        vertical-align: middle;\n",
       "    }\n",
       "\n",
       "    .dataframe tbody tr th {\n",
       "        vertical-align: top;\n",
       "    }\n",
       "\n",
       "    .dataframe thead th {\n",
       "        text-align: right;\n",
       "    }\n",
       "</style>\n",
       "<table border=\"1\" class=\"dataframe\">\n",
       "  <thead>\n",
       "    <tr style=\"text-align: right;\">\n",
       "      <th></th>\n",
       "      <th>EDUCATION_0</th>\n",
       "      <th>EDUCATION_1</th>\n",
       "      <th>EDUCATION_2</th>\n",
       "      <th>EDUCATION_3</th>\n",
       "      <th>EDUCATION_4</th>\n",
       "      <th>EDUCATION_5</th>\n",
       "      <th>EDUCATION_6</th>\n",
       "    </tr>\n",
       "  </thead>\n",
       "  <tbody>\n",
       "    <tr>\n",
       "      <th>0</th>\n",
       "      <td>0.0</td>\n",
       "      <td>0.0</td>\n",
       "      <td>1.0</td>\n",
       "      <td>0.0</td>\n",
       "      <td>0.0</td>\n",
       "      <td>0.0</td>\n",
       "      <td>0.0</td>\n",
       "    </tr>\n",
       "    <tr>\n",
       "      <th>1</th>\n",
       "      <td>0.0</td>\n",
       "      <td>0.0</td>\n",
       "      <td>1.0</td>\n",
       "      <td>0.0</td>\n",
       "      <td>0.0</td>\n",
       "      <td>0.0</td>\n",
       "      <td>0.0</td>\n",
       "    </tr>\n",
       "    <tr>\n",
       "      <th>2</th>\n",
       "      <td>0.0</td>\n",
       "      <td>0.0</td>\n",
       "      <td>1.0</td>\n",
       "      <td>0.0</td>\n",
       "      <td>0.0</td>\n",
       "      <td>0.0</td>\n",
       "      <td>0.0</td>\n",
       "    </tr>\n",
       "    <tr>\n",
       "      <th>3</th>\n",
       "      <td>0.0</td>\n",
       "      <td>0.0</td>\n",
       "      <td>1.0</td>\n",
       "      <td>0.0</td>\n",
       "      <td>0.0</td>\n",
       "      <td>0.0</td>\n",
       "      <td>0.0</td>\n",
       "    </tr>\n",
       "    <tr>\n",
       "      <th>4</th>\n",
       "      <td>0.0</td>\n",
       "      <td>0.0</td>\n",
       "      <td>1.0</td>\n",
       "      <td>0.0</td>\n",
       "      <td>0.0</td>\n",
       "      <td>0.0</td>\n",
       "      <td>0.0</td>\n",
       "    </tr>\n",
       "  </tbody>\n",
       "</table>\n",
       "</div>"
      ],
      "text/plain": [
       "   EDUCATION_0  EDUCATION_1  EDUCATION_2  EDUCATION_3  EDUCATION_4  \\\n",
       "0          0.0          0.0          1.0          0.0          0.0   \n",
       "1          0.0          0.0          1.0          0.0          0.0   \n",
       "2          0.0          0.0          1.0          0.0          0.0   \n",
       "3          0.0          0.0          1.0          0.0          0.0   \n",
       "4          0.0          0.0          1.0          0.0          0.0   \n",
       "\n",
       "   EDUCATION_5  EDUCATION_6  \n",
       "0          0.0          0.0  \n",
       "1          0.0          0.0  \n",
       "2          0.0          0.0  \n",
       "3          0.0          0.0  \n",
       "4          0.0          0.0  "
      ]
     },
     "execution_count": 29,
     "metadata": {},
     "output_type": "execute_result"
    }
   ],
   "source": [
    "dummies_df.head()"
   ]
  },
  {
   "cell_type": "code",
   "execution_count": 30,
   "id": "civilian-exclusive",
   "metadata": {},
   "outputs": [],
   "source": [
    "df_with_edu_dummies = pd.concat([new_df,dummies_df], axis=1).drop(\"EDUCATION\", axis=1)"
   ]
  },
  {
   "cell_type": "markdown",
   "id": "random-sport",
   "metadata": {},
   "source": [
    "## Exercício 6\n",
    "Analise `PAY_3` e `PAY_2` e verifique se as informações nelas contidas estão condizentes. Avalie se\n",
    "poderão ser utilizadas no modelo preditivo."
   ]
  },
  {
   "cell_type": "code",
   "execution_count": 31,
   "id": "artificial-banner",
   "metadata": {},
   "outputs": [
    {
     "data": {
      "text/plain": [
       " 0    15564\n",
       "-1     5984\n",
       " 2     3877\n",
       "-2     3705\n",
       " 3      325\n",
       " 4       99\n",
       " 1       28\n",
       " 5       24\n",
       " 7       20\n",
       " 6       12\n",
       " 8        1\n",
       "Name: PAY_2, dtype: int64"
      ]
     },
     "execution_count": 31,
     "metadata": {},
     "output_type": "execute_result"
    }
   ],
   "source": [
    "new_df.PAY_2.value_counts()"
   ]
  },
  {
   "cell_type": "code",
   "execution_count": 32,
   "id": "functional-fraud",
   "metadata": {
    "scrolled": true
   },
   "outputs": [
    {
     "data": {
      "text/plain": [
       " 0    15600\n",
       "-1     5865\n",
       "-2     4004\n",
       " 2     3782\n",
       " 3      237\n",
       " 4       73\n",
       " 7       27\n",
       " 6       23\n",
       " 5       21\n",
       " 1        4\n",
       " 8        3\n",
       "Name: PAY_3, dtype: int64"
      ]
     },
     "execution_count": 32,
     "metadata": {},
     "output_type": "execute_result"
    }
   ],
   "source": [
    "new_df.PAY_3.value_counts()"
   ]
  },
  {
   "cell_type": "markdown",
   "id": "religious-wages",
   "metadata": {},
   "source": [
    "As informações não estão condizentes com a descrição. Mas se levarmos a análise da variável `PAY_1` em conta e assumir que os valores 0 (dados faltantes) e -2 (fatura vazia) são validos, então teremos informações úteis para o modelo."
   ]
  },
  {
   "cell_type": "markdown",
   "id": "initial-offense",
   "metadata": {},
   "source": [
    "## Exercício 7\n",
    "1. Plote os histogramas de `PAY_1`, ..., `PAY_6`; calcule suas médias, variâncias, e valores máximos e mínimos."
   ]
  },
  {
   "cell_type": "code",
   "execution_count": 56,
   "id": "korean-engineer",
   "metadata": {},
   "outputs": [
    {
     "data": {
      "image/png": "[encoded data removed]",
      "text/plain": [
       "<Figure size 576x864 with 6 Axes>"
      ]
     },
     "metadata": {
      "needs_background": "light"
     },
     "output_type": "display_data"
    }
   ],
   "source": [
    "# Para PAY_1 é necessário remover os valores faltantes\n",
    "df_aux = new_df.query(f\"PAY_1 != 'Not available'\")\n",
    "df_aux.PAY_1 = df_aux.PAY_1.astype(int) \n",
    "\n",
    "plt.rcParams['figure.figsize'] = [8,12]\n",
    "fig, axes = plt.subplots(6,1, sharey=True)\n",
    "for ax, column in zip(axes, np.arange(1,7)):\n",
    "    sns.histplot(df_aux.query(f\"PAY_1 != 'Not available'\")[f\"PAY_{column}\"], ax=ax)"
   ]
  },
  {
   "cell_type": "code",
   "execution_count": 43,
   "id": "treated-effect",
   "metadata": {},
   "outputs": [
    {
     "data": {
      "text/html": [
       "<div>\n",
       "<style scoped>\n",
       "    .dataframe tbody tr th:only-of-type {\n",
       "        vertical-align: middle;\n",
       "    }\n",
       "\n",
       "    .dataframe tbody tr th {\n",
       "        vertical-align: top;\n",
       "    }\n",
       "\n",
       "    .dataframe thead th {\n",
       "        text-align: right;\n",
       "    }\n",
       "</style>\n",
       "<table border=\"1\" class=\"dataframe\">\n",
       "  <thead>\n",
       "    <tr style=\"text-align: right;\">\n",
       "      <th></th>\n",
       "      <th>PAY_1</th>\n",
       "      <th>PAY_2</th>\n",
       "      <th>PAY_3</th>\n",
       "      <th>PAY_4</th>\n",
       "      <th>PAY_5</th>\n",
       "      <th>PAY_6</th>\n",
       "    </tr>\n",
       "  </thead>\n",
       "  <tbody>\n",
       "    <tr>\n",
       "      <th>count</th>\n",
       "      <td>26619.000000</td>\n",
       "      <td>26619.000000</td>\n",
       "      <td>26619.000000</td>\n",
       "      <td>26619.000000</td>\n",
       "      <td>26619.000000</td>\n",
       "      <td>26619.000000</td>\n",
       "    </tr>\n",
       "    <tr>\n",
       "      <th>mean</th>\n",
       "      <td>-0.017619</td>\n",
       "      <td>-0.130471</td>\n",
       "      <td>-0.164882</td>\n",
       "      <td>-0.222322</td>\n",
       "      <td>-0.267140</td>\n",
       "      <td>-0.290995</td>\n",
       "    </tr>\n",
       "    <tr>\n",
       "      <th>std</th>\n",
       "      <td>1.126207</td>\n",
       "      <td>1.197335</td>\n",
       "      <td>1.197703</td>\n",
       "      <td>1.166477</td>\n",
       "      <td>1.130313</td>\n",
       "      <td>1.148916</td>\n",
       "    </tr>\n",
       "    <tr>\n",
       "      <th>min</th>\n",
       "      <td>-2.000000</td>\n",
       "      <td>-2.000000</td>\n",
       "      <td>-2.000000</td>\n",
       "      <td>-2.000000</td>\n",
       "      <td>-2.000000</td>\n",
       "      <td>-2.000000</td>\n",
       "    </tr>\n",
       "    <tr>\n",
       "      <th>25%</th>\n",
       "      <td>-1.000000</td>\n",
       "      <td>-1.000000</td>\n",
       "      <td>-1.000000</td>\n",
       "      <td>-1.000000</td>\n",
       "      <td>-1.000000</td>\n",
       "      <td>-1.000000</td>\n",
       "    </tr>\n",
       "    <tr>\n",
       "      <th>50%</th>\n",
       "      <td>0.000000</td>\n",
       "      <td>0.000000</td>\n",
       "      <td>0.000000</td>\n",
       "      <td>0.000000</td>\n",
       "      <td>0.000000</td>\n",
       "      <td>0.000000</td>\n",
       "    </tr>\n",
       "    <tr>\n",
       "      <th>75%</th>\n",
       "      <td>0.000000</td>\n",
       "      <td>0.000000</td>\n",
       "      <td>0.000000</td>\n",
       "      <td>0.000000</td>\n",
       "      <td>0.000000</td>\n",
       "      <td>0.000000</td>\n",
       "    </tr>\n",
       "    <tr>\n",
       "      <th>max</th>\n",
       "      <td>8.000000</td>\n",
       "      <td>8.000000</td>\n",
       "      <td>8.000000</td>\n",
       "      <td>8.000000</td>\n",
       "      <td>8.000000</td>\n",
       "      <td>8.000000</td>\n",
       "    </tr>\n",
       "  </tbody>\n",
       "</table>\n",
       "</div>"
      ],
      "text/plain": [
       "              PAY_1         PAY_2         PAY_3         PAY_4         PAY_5  \\\n",
       "count  26619.000000  26619.000000  26619.000000  26619.000000  26619.000000   \n",
       "mean      -0.017619     -0.130471     -0.164882     -0.222322     -0.267140   \n",
       "std        1.126207      1.197335      1.197703      1.166477      1.130313   \n",
       "min       -2.000000     -2.000000     -2.000000     -2.000000     -2.000000   \n",
       "25%       -1.000000     -1.000000     -1.000000     -1.000000     -1.000000   \n",
       "50%        0.000000      0.000000      0.000000      0.000000      0.000000   \n",
       "75%        0.000000      0.000000      0.000000      0.000000      0.000000   \n",
       "max        8.000000      8.000000      8.000000      8.000000      8.000000   \n",
       "\n",
       "              PAY_6  \n",
       "count  26619.000000  \n",
       "mean      -0.290995  \n",
       "std        1.148916  \n",
       "min       -2.000000  \n",
       "25%       -1.000000  \n",
       "50%        0.000000  \n",
       "75%        0.000000  \n",
       "max        8.000000  "
      ]
     },
     "execution_count": 43,
     "metadata": {},
     "output_type": "execute_result"
    }
   ],
   "source": [
    "df_aux[[f\"PAY_{i}\" for i in np.arange(1,7)]].describe()"
   ]
  },
  {
   "cell_type": "code",
   "execution_count": 44,
   "id": "owned-crack",
   "metadata": {},
   "outputs": [
    {
     "name": "stdout",
     "output_type": "stream",
     "text": [
      "Variâncias\n",
      "PAY_1    1.268342\n",
      "PAY_2    1.433612\n",
      "PAY_3    1.434493\n",
      "PAY_4    1.360669\n",
      "PAY_5    1.277608\n",
      "PAY_6    1.320007\n",
      "Name: std, dtype: float64\n"
     ]
    }
   ],
   "source": [
    "print(\"Variâncias\")\n",
    "print(df_aux[[f\"PAY_{i}\" for i in np.arange(1,7)]].describe().loc['std',:]**2)"
   ]
  },
  {
   "cell_type": "markdown",
   "id": "digital-impossible",
   "metadata": {},
   "source": [
    "2. Faça o mesmo para `BILL AMT_n`, n = 1, ..., 6"
   ]
  },
  {
   "cell_type": "code",
   "execution_count": 51,
   "id": "amateur-mississippi",
   "metadata": {},
   "outputs": [],
   "source": [
    "plt.rcParams['figure.figsize'] = [8,5]"
   ]
  },
  {
   "cell_type": "code",
   "execution_count": 72,
   "id": "valid-compilation",
   "metadata": {},
   "outputs": [],
   "source": [
    "def make_hist_and_get_stats(df, column_radical):\n",
    "    plt.rcParams['figure.figsize'] = [8,12]\n",
    "    fig, axes = plt.subplots(6,1, sharey=True)\n",
    "    for ax, column in zip(axes, np.arange(1,7)):\n",
    "        sns.histplot(df[f\"{column_radical}{column}\"], ax=ax)\n",
    "    stats = df[[f\"{column_radical}{i}\" for i in np.arange(1,7)]].describe()\n",
    "    return fig, stats, stats.loc['std',:]**2"
   ]
  },
  {
   "cell_type": "code",
   "execution_count": 73,
   "id": "composed-summer",
   "metadata": {},
   "outputs": [
    {
     "data": {
      "image/png": "[encoded data removed]",
      "text/plain": [
       "<Figure size 576x864 with 6 Axes>"
      ]
     },
     "metadata": {
      "needs_background": "light"
     },
     "output_type": "display_data"
    }
   ],
   "source": [
    "fig, stats, var = make_hist_and_get_stats(new_df, \"BILL_AMT\")"
   ]
  },
  {
   "cell_type": "code",
   "execution_count": 74,
   "id": "alien-prize",
   "metadata": {},
   "outputs": [
    {
     "data": {
      "text/html": [
       "<div>\n",
       "<style scoped>\n",
       "    .dataframe tbody tr th:only-of-type {\n",
       "        vertical-align: middle;\n",
       "    }\n",
       "\n",
       "    .dataframe tbody tr th {\n",
       "        vertical-align: top;\n",
       "    }\n",
       "\n",
       "    .dataframe thead th {\n",
       "        text-align: right;\n",
       "    }\n",
       "</style>\n",
       "<table border=\"1\" class=\"dataframe\">\n",
       "  <thead>\n",
       "    <tr style=\"text-align: right;\">\n",
       "      <th></th>\n",
       "      <th>BILL_AMT1</th>\n",
       "      <th>BILL_AMT2</th>\n",
       "      <th>BILL_AMT3</th>\n",
       "      <th>BILL_AMT4</th>\n",
       "      <th>BILL_AMT5</th>\n",
       "      <th>BILL_AMT6</th>\n",
       "    </tr>\n",
       "  </thead>\n",
       "  <tbody>\n",
       "    <tr>\n",
       "      <th>count</th>\n",
       "      <td>26619.000000</td>\n",
       "      <td>26619.000000</td>\n",
       "      <td>26619.000000</td>\n",
       "      <td>26619.000000</td>\n",
       "      <td>26619.000000</td>\n",
       "      <td>26619.000000</td>\n",
       "    </tr>\n",
       "    <tr>\n",
       "      <th>mean</th>\n",
       "      <td>51492.368797</td>\n",
       "      <td>49383.173711</td>\n",
       "      <td>47105.668583</td>\n",
       "      <td>43411.989368</td>\n",
       "      <td>40406.158684</td>\n",
       "      <td>38955.445997</td>\n",
       "    </tr>\n",
       "    <tr>\n",
       "      <th>std</th>\n",
       "      <td>73665.717118</td>\n",
       "      <td>70965.608498</td>\n",
       "      <td>68736.289960</td>\n",
       "      <td>64304.945819</td>\n",
       "      <td>60734.667790</td>\n",
       "      <td>59461.335462</td>\n",
       "    </tr>\n",
       "    <tr>\n",
       "      <th>min</th>\n",
       "      <td>-165580.000000</td>\n",
       "      <td>-69777.000000</td>\n",
       "      <td>-157264.000000</td>\n",
       "      <td>-170000.000000</td>\n",
       "      <td>-81334.000000</td>\n",
       "      <td>-339603.000000</td>\n",
       "    </tr>\n",
       "    <tr>\n",
       "      <th>25%</th>\n",
       "      <td>3638.500000</td>\n",
       "      <td>3070.500000</td>\n",
       "      <td>2683.000000</td>\n",
       "      <td>2395.000000</td>\n",
       "      <td>1776.500000</td>\n",
       "      <td>1270.500000</td>\n",
       "    </tr>\n",
       "    <tr>\n",
       "      <th>50%</th>\n",
       "      <td>22453.000000</td>\n",
       "      <td>21267.000000</td>\n",
       "      <td>20135.000000</td>\n",
       "      <td>19089.000000</td>\n",
       "      <td>18100.000000</td>\n",
       "      <td>17077.000000</td>\n",
       "    </tr>\n",
       "    <tr>\n",
       "      <th>75%</th>\n",
       "      <td>67757.000000</td>\n",
       "      <td>64494.500000</td>\n",
       "      <td>60405.000000</td>\n",
       "      <td>54872.000000</td>\n",
       "      <td>50372.000000</td>\n",
       "      <td>49316.500000</td>\n",
       "    </tr>\n",
       "    <tr>\n",
       "      <th>max</th>\n",
       "      <td>746814.000000</td>\n",
       "      <td>671563.000000</td>\n",
       "      <td>855086.000000</td>\n",
       "      <td>706864.000000</td>\n",
       "      <td>823540.000000</td>\n",
       "      <td>699944.000000</td>\n",
       "    </tr>\n",
       "  </tbody>\n",
       "</table>\n",
       "</div>"
      ],
      "text/plain": [
       "           BILL_AMT1      BILL_AMT2      BILL_AMT3      BILL_AMT4  \\\n",
       "count   26619.000000   26619.000000   26619.000000   26619.000000   \n",
       "mean    51492.368797   49383.173711   47105.668583   43411.989368   \n",
       "std     73665.717118   70965.608498   68736.289960   64304.945819   \n",
       "min   -165580.000000  -69777.000000 -157264.000000 -170000.000000   \n",
       "25%      3638.500000    3070.500000    2683.000000    2395.000000   \n",
       "50%     22453.000000   21267.000000   20135.000000   19089.000000   \n",
       "75%     67757.000000   64494.500000   60405.000000   54872.000000   \n",
       "max    746814.000000  671563.000000  855086.000000  706864.000000   \n",
       "\n",
       "           BILL_AMT5      BILL_AMT6  \n",
       "count   26619.000000   26619.000000  \n",
       "mean    40406.158684   38955.445997  \n",
       "std     60734.667790   59461.335462  \n",
       "min    -81334.000000 -339603.000000  \n",
       "25%      1776.500000    1270.500000  \n",
       "50%     18100.000000   17077.000000  \n",
       "75%     50372.000000   49316.500000  \n",
       "max    823540.000000  699944.000000  "
      ]
     },
     "execution_count": 74,
     "metadata": {},
     "output_type": "execute_result"
    }
   ],
   "source": [
    "stats"
   ]
  },
  {
   "cell_type": "code",
   "execution_count": 75,
   "id": "solid-surface",
   "metadata": {},
   "outputs": [
    {
     "data": {
      "text/plain": [
       "BILL_AMT1    5.426638e+09\n",
       "BILL_AMT2    5.036118e+09\n",
       "BILL_AMT3    4.724678e+09\n",
       "BILL_AMT4    4.135126e+09\n",
       "BILL_AMT5    3.688700e+09\n",
       "BILL_AMT6    3.535650e+09\n",
       "Name: std, dtype: float64"
      ]
     },
     "execution_count": 75,
     "metadata": {},
     "output_type": "execute_result"
    }
   ],
   "source": [
    "var"
   ]
  },
  {
   "cell_type": "markdown",
   "id": "banner-installation",
   "metadata": {},
   "source": [
    "3. Faça o mesmo para `PAY_AMT_n`, n = 1, ..., 6."
   ]
  },
  {
   "cell_type": "code",
   "execution_count": 76,
   "id": "abandoned-ethics",
   "metadata": {},
   "outputs": [
    {
     "data": {
      "image/png": "[encoded data removed]",
      "text/plain": [
       "<Figure size 576x864 with 6 Axes>"
      ]
     },
     "metadata": {
      "needs_background": "light"
     },
     "output_type": "display_data"
    }
   ],
   "source": [
    "fig, stats, var = make_hist_and_get_stats(new_df, \"PAY_AMT\")"
   ]
  },
  {
   "cell_type": "code",
   "execution_count": 77,
   "id": "helpful-briefs",
   "metadata": {},
   "outputs": [
    {
     "data": {
      "text/html": [
       "<div>\n",
       "<style scoped>\n",
       "    .dataframe tbody tr th:only-of-type {\n",
       "        vertical-align: middle;\n",
       "    }\n",
       "\n",
       "    .dataframe tbody tr th {\n",
       "        vertical-align: top;\n",
       "    }\n",
       "\n",
       "    .dataframe thead th {\n",
       "        text-align: right;\n",
       "    }\n",
       "</style>\n",
       "<table border=\"1\" class=\"dataframe\">\n",
       "  <thead>\n",
       "    <tr style=\"text-align: right;\">\n",
       "      <th></th>\n",
       "      <th>PAY_AMT1</th>\n",
       "      <th>PAY_AMT2</th>\n",
       "      <th>PAY_AMT3</th>\n",
       "      <th>PAY_AMT4</th>\n",
       "      <th>PAY_AMT5</th>\n",
       "      <th>PAY_AMT6</th>\n",
       "    </tr>\n",
       "  </thead>\n",
       "  <tbody>\n",
       "    <tr>\n",
       "      <th>count</th>\n",
       "      <td>26619.000000</td>\n",
       "      <td>2.661900e+04</td>\n",
       "      <td>26619.000000</td>\n",
       "      <td>26619.000000</td>\n",
       "      <td>26619.000000</td>\n",
       "      <td>26619.000000</td>\n",
       "    </tr>\n",
       "    <tr>\n",
       "      <th>mean</th>\n",
       "      <td>5713.620121</td>\n",
       "      <td>5.890943e+03</td>\n",
       "      <td>5268.297757</td>\n",
       "      <td>4895.201848</td>\n",
       "      <td>4851.809873</td>\n",
       "      <td>5266.623014</td>\n",
       "    </tr>\n",
       "    <tr>\n",
       "      <th>std</th>\n",
       "      <td>16711.894066</td>\n",
       "      <td>2.123088e+04</td>\n",
       "      <td>17278.702252</td>\n",
       "      <td>15968.595065</td>\n",
       "      <td>15323.393749</td>\n",
       "      <td>17649.072172</td>\n",
       "    </tr>\n",
       "    <tr>\n",
       "      <th>min</th>\n",
       "      <td>0.000000</td>\n",
       "      <td>0.000000e+00</td>\n",
       "      <td>0.000000</td>\n",
       "      <td>0.000000</td>\n",
       "      <td>0.000000</td>\n",
       "      <td>0.000000</td>\n",
       "    </tr>\n",
       "    <tr>\n",
       "      <th>25%</th>\n",
       "      <td>1000.000000</td>\n",
       "      <td>8.270000e+02</td>\n",
       "      <td>393.500000</td>\n",
       "      <td>300.000000</td>\n",
       "      <td>255.500000</td>\n",
       "      <td>129.500000</td>\n",
       "    </tr>\n",
       "    <tr>\n",
       "      <th>50%</th>\n",
       "      <td>2124.000000</td>\n",
       "      <td>2.009000e+03</td>\n",
       "      <td>1832.000000</td>\n",
       "      <td>1500.000000</td>\n",
       "      <td>1500.000000</td>\n",
       "      <td>1500.000000</td>\n",
       "    </tr>\n",
       "    <tr>\n",
       "      <th>75%</th>\n",
       "      <td>5032.000000</td>\n",
       "      <td>5.000000e+03</td>\n",
       "      <td>4579.000000</td>\n",
       "      <td>4059.500000</td>\n",
       "      <td>4096.000000</td>\n",
       "      <td>4025.000000</td>\n",
       "    </tr>\n",
       "    <tr>\n",
       "      <th>max</th>\n",
       "      <td>873552.000000</td>\n",
       "      <td>1.227082e+06</td>\n",
       "      <td>889043.000000</td>\n",
       "      <td>621000.000000</td>\n",
       "      <td>426529.000000</td>\n",
       "      <td>528666.000000</td>\n",
       "    </tr>\n",
       "  </tbody>\n",
       "</table>\n",
       "</div>"
      ],
      "text/plain": [
       "            PAY_AMT1      PAY_AMT2       PAY_AMT3       PAY_AMT4  \\\n",
       "count   26619.000000  2.661900e+04   26619.000000   26619.000000   \n",
       "mean     5713.620121  5.890943e+03    5268.297757    4895.201848   \n",
       "std     16711.894066  2.123088e+04   17278.702252   15968.595065   \n",
       "min         0.000000  0.000000e+00       0.000000       0.000000   \n",
       "25%      1000.000000  8.270000e+02     393.500000     300.000000   \n",
       "50%      2124.000000  2.009000e+03    1832.000000    1500.000000   \n",
       "75%      5032.000000  5.000000e+03    4579.000000    4059.500000   \n",
       "max    873552.000000  1.227082e+06  889043.000000  621000.000000   \n",
       "\n",
       "            PAY_AMT5       PAY_AMT6  \n",
       "count   26619.000000   26619.000000  \n",
       "mean     4851.809873    5266.623014  \n",
       "std     15323.393749   17649.072172  \n",
       "min         0.000000       0.000000  \n",
       "25%       255.500000     129.500000  \n",
       "50%      1500.000000    1500.000000  \n",
       "75%      4096.000000    4025.000000  \n",
       "max    426529.000000  528666.000000  "
      ]
     },
     "execution_count": 77,
     "metadata": {},
     "output_type": "execute_result"
    }
   ],
   "source": [
    "stats"
   ]
  },
  {
   "cell_type": "code",
   "execution_count": 78,
   "id": "reverse-flash",
   "metadata": {},
   "outputs": [
    {
     "data": {
      "text/plain": [
       "PAY_AMT1    2.792874e+08\n",
       "PAY_AMT2    4.507504e+08\n",
       "PAY_AMT3    2.985536e+08\n",
       "PAY_AMT4    2.549960e+08\n",
       "PAY_AMT5    2.348064e+08\n",
       "PAY_AMT6    3.114897e+08\n",
       "Name: std, dtype: float64"
      ]
     },
     "execution_count": 78,
     "metadata": {},
     "output_type": "execute_result"
    }
   ],
   "source": [
    "var"
   ]
  },
  {
   "cell_type": "markdown",
   "id": "worse-islam",
   "metadata": {},
   "source": [
    "4. Repita o passo anterior eliminando as ocorrências nulas e aplicando log10 aos pagamentos não-nulos. "
   ]
  },
  {
   "cell_type": "code",
   "execution_count": 79,
   "id": "central-national",
   "metadata": {},
   "outputs": [],
   "source": [
    "def aplica_log10(value):\n",
    "    if value == 0:\n",
    "        return 0\n",
    "    else:\n",
    "        return np.log10(value)"
   ]
  },
  {
   "cell_type": "code",
   "execution_count": 81,
   "id": "exotic-jacob",
   "metadata": {},
   "outputs": [
    {
     "data": {
      "image/png": "[encoded data removed]",
      "text/plain": [
       "<Figure size 576x864 with 6 Axes>"
      ]
     },
     "metadata": {
      "needs_background": "light"
     },
     "output_type": "display_data"
    }
   ],
   "source": [
    "column_radical = \"PAY_AMT\"\n",
    "fig, stats, var = make_hist_and_get_stats(\n",
    "    new_df[[f\"{column_radical}{i}\" for i in np.arange(1,7)]].applymap(aplica_log10), \n",
    "    column_radical\n",
    ")"
   ]
  },
  {
   "cell_type": "code",
   "execution_count": 82,
   "id": "legislative-insight",
   "metadata": {},
   "outputs": [
    {
     "data": {
      "text/html": [
       "<div>\n",
       "<style scoped>\n",
       "    .dataframe tbody tr th:only-of-type {\n",
       "        vertical-align: middle;\n",
       "    }\n",
       "\n",
       "    .dataframe tbody tr th {\n",
       "        vertical-align: top;\n",
       "    }\n",
       "\n",
       "    .dataframe thead th {\n",
       "        text-align: right;\n",
       "    }\n",
       "</style>\n",
       "<table border=\"1\" class=\"dataframe\">\n",
       "  <thead>\n",
       "    <tr style=\"text-align: right;\">\n",
       "      <th></th>\n",
       "      <th>PAY_AMT1</th>\n",
       "      <th>PAY_AMT2</th>\n",
       "      <th>PAY_AMT3</th>\n",
       "      <th>PAY_AMT4</th>\n",
       "      <th>PAY_AMT5</th>\n",
       "      <th>PAY_AMT6</th>\n",
       "    </tr>\n",
       "  </thead>\n",
       "  <tbody>\n",
       "    <tr>\n",
       "      <th>count</th>\n",
       "      <td>26619.000000</td>\n",
       "      <td>26619.000000</td>\n",
       "      <td>26619.000000</td>\n",
       "      <td>26619.000000</td>\n",
       "      <td>26619.000000</td>\n",
       "      <td>26619.000000</td>\n",
       "    </tr>\n",
       "    <tr>\n",
       "      <th>mean</th>\n",
       "      <td>2.885784</td>\n",
       "      <td>2.849465</td>\n",
       "      <td>2.735889</td>\n",
       "      <td>2.644261</td>\n",
       "      <td>2.622285</td>\n",
       "      <td>2.580872</td>\n",
       "    </tr>\n",
       "    <tr>\n",
       "      <th>std</th>\n",
       "      <td>1.409628</td>\n",
       "      <td>1.425867</td>\n",
       "      <td>1.453011</td>\n",
       "      <td>1.475472</td>\n",
       "      <td>1.497253</td>\n",
       "      <td>1.532415</td>\n",
       "    </tr>\n",
       "    <tr>\n",
       "      <th>min</th>\n",
       "      <td>0.000000</td>\n",
       "      <td>0.000000</td>\n",
       "      <td>0.000000</td>\n",
       "      <td>0.000000</td>\n",
       "      <td>0.000000</td>\n",
       "      <td>0.000000</td>\n",
       "    </tr>\n",
       "    <tr>\n",
       "      <th>25%</th>\n",
       "      <td>3.000000</td>\n",
       "      <td>2.917506</td>\n",
       "      <td>2.594944</td>\n",
       "      <td>2.477121</td>\n",
       "      <td>2.407390</td>\n",
       "      <td>2.112267</td>\n",
       "    </tr>\n",
       "    <tr>\n",
       "      <th>50%</th>\n",
       "      <td>3.327155</td>\n",
       "      <td>3.302980</td>\n",
       "      <td>3.262925</td>\n",
       "      <td>3.176091</td>\n",
       "      <td>3.176091</td>\n",
       "      <td>3.176091</td>\n",
       "    </tr>\n",
       "    <tr>\n",
       "      <th>75%</th>\n",
       "      <td>3.701741</td>\n",
       "      <td>3.698970</td>\n",
       "      <td>3.660771</td>\n",
       "      <td>3.608473</td>\n",
       "      <td>3.612360</td>\n",
       "      <td>3.604766</td>\n",
       "    </tr>\n",
       "    <tr>\n",
       "      <th>max</th>\n",
       "      <td>5.941289</td>\n",
       "      <td>6.088874</td>\n",
       "      <td>5.948923</td>\n",
       "      <td>5.793092</td>\n",
       "      <td>5.629949</td>\n",
       "      <td>5.723181</td>\n",
       "    </tr>\n",
       "  </tbody>\n",
       "</table>\n",
       "</div>"
      ],
      "text/plain": [
       "           PAY_AMT1      PAY_AMT2      PAY_AMT3      PAY_AMT4      PAY_AMT5  \\\n",
       "count  26619.000000  26619.000000  26619.000000  26619.000000  26619.000000   \n",
       "mean       2.885784      2.849465      2.735889      2.644261      2.622285   \n",
       "std        1.409628      1.425867      1.453011      1.475472      1.497253   \n",
       "min        0.000000      0.000000      0.000000      0.000000      0.000000   \n",
       "25%        3.000000      2.917506      2.594944      2.477121      2.407390   \n",
       "50%        3.327155      3.302980      3.262925      3.176091      3.176091   \n",
       "75%        3.701741      3.698970      3.660771      3.608473      3.612360   \n",
       "max        5.941289      6.088874      5.948923      5.793092      5.629949   \n",
       "\n",
       "           PAY_AMT6  \n",
       "count  26619.000000  \n",
       "mean       2.580872  \n",
       "std        1.532415  \n",
       "min        0.000000  \n",
       "25%        2.112267  \n",
       "50%        3.176091  \n",
       "75%        3.604766  \n",
       "max        5.723181  "
      ]
     },
     "execution_count": 82,
     "metadata": {},
     "output_type": "execute_result"
    }
   ],
   "source": [
    "stats"
   ]
  },
  {
   "cell_type": "code",
   "execution_count": 83,
   "id": "indirect-summary",
   "metadata": {},
   "outputs": [
    {
     "data": {
      "text/plain": [
       "PAY_AMT1    1.987051\n",
       "PAY_AMT2    2.033097\n",
       "PAY_AMT3    2.111241\n",
       "PAY_AMT4    2.177017\n",
       "PAY_AMT5    2.241768\n",
       "PAY_AMT6    2.348297\n",
       "Name: std, dtype: float64"
      ]
     },
     "execution_count": 83,
     "metadata": {},
     "output_type": "execute_result"
    }
   ],
   "source": [
    "stats.loc['std',:]**2"
   ]
  }
 ],
 "metadata": {
  "kernelspec": {
   "display_name": "Python 3",
   "language": "python",
   "name": "python3"
  },
  "language_info": {
   "codemirror_mode": {
    "name": "ipython",
    "version": 3
   },
   "file_extension": ".py",
   "mimetype": "text/x-python",
   "name": "python",
   "nbconvert_exporter": "python",
   "pygments_lexer": "ipython3",
   "version": "3.9.5"
  }
 },
 "nbformat": 4,
 "nbformat_minor": 5
}
